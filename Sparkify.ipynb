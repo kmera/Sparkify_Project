{
 "cells": [
  {
   "cell_type": "markdown",
   "metadata": {},
   "source": [
    "# Sparkify Project Workspace\n",
    "This workspace contains a tiny subset (128MB) of the full dataset available (12GB). Feel free to use this workspace to build your project, or to explore a smaller subset with Spark before deploying your cluster on the cloud. Instructions for setting up your Spark cluster is included in the last lesson of the Extracurricular Spark Course content.\n",
    "\n",
    "You can follow the steps below to guide your data analysis and model building portion of this project."
   ]
  },
  {
   "cell_type": "code",
   "execution_count": 1,
   "metadata": {},
   "outputs": [],
   "source": [
    "# import libraries\n",
    "import pandas as pd\n",
    "import numpy as np\n",
    "import matplotlib.pyplot as plt\n",
    "import seaborn as sns\n",
    "%matplotlib inline\n",
    "\n",
    "from pyspark.sql import SparkSession\n",
    "from pyspark.sql.window import Window\n",
    "from pyspark.sql.functions import asc, col, concat, count, desc, isnull, lag, row_number, udf, sumDistinct\n",
    "from pyspark.sql.functions import sum as Fsum, max as Fmax\n",
    "from pyspark.sql.types import IntegerType, StringType\n",
    "import datetime\n",
    "\n",
    "from pyspark.ml.classification import LogisticRegression, RandomForestClassifier\n",
    "from pyspark.ml.evaluation import BinaryClassificationEvaluator\n",
    "from pyspark.ml.evaluation import MulticlassClassificationEvaluator\n",
    "from pyspark.ml.feature import VectorAssembler, StandardScaler, StringIndexer\n",
    "from pyspark.ml.tuning import CrossValidator, ParamGridBuilder\n",
    "from sklearn.metrics import f1_score, precision_score, roc_auc_score, recall_score\n",
    "from pyspark.ml import Pipeline\n",
    "\n",
    "import re"
   ]
  },
  {
   "cell_type": "code",
   "execution_count": 2,
   "metadata": {},
   "outputs": [],
   "source": [
    "# create a Spark session\n",
    "spark = SparkSession \\\n",
    "    .builder \\\n",
    "    .appName(\"Sparkify\") \\\n",
    "    .getOrCreate()"
   ]
  },
  {
   "cell_type": "markdown",
   "metadata": {},
   "source": [
    "# Load and Clean Dataset\n",
    "In this workspace, the mini-dataset file is `mini_sparkify_event_data.json`. Load and clean the dataset, checking for invalid or missing data - for example, records without userids or sessionids. "
   ]
  },
  {
   "cell_type": "code",
   "execution_count": 3,
   "metadata": {},
   "outputs": [
    {
     "name": "stdout",
     "output_type": "stream",
     "text": [
      "root\n",
      " |-- artist: string (nullable = true)\n",
      " |-- auth: string (nullable = true)\n",
      " |-- firstName: string (nullable = true)\n",
      " |-- gender: string (nullable = true)\n",
      " |-- itemInSession: long (nullable = true)\n",
      " |-- lastName: string (nullable = true)\n",
      " |-- length: double (nullable = true)\n",
      " |-- level: string (nullable = true)\n",
      " |-- location: string (nullable = true)\n",
      " |-- method: string (nullable = true)\n",
      " |-- page: string (nullable = true)\n",
      " |-- registration: long (nullable = true)\n",
      " |-- sessionId: long (nullable = true)\n",
      " |-- song: string (nullable = true)\n",
      " |-- status: long (nullable = true)\n",
      " |-- ts: long (nullable = true)\n",
      " |-- userAgent: string (nullable = true)\n",
      " |-- userId: string (nullable = true)\n",
      "\n"
     ]
    }
   ],
   "source": [
    "user_log = spark.read.json(\"mini_sparkify_event_data.json\")\n",
    "user_log.printSchema()"
   ]
  },
  {
   "cell_type": "code",
   "execution_count": 4,
   "metadata": {},
   "outputs": [
    {
     "data": {
      "text/plain": [
       "286500"
      ]
     },
     "execution_count": 4,
     "metadata": {},
     "output_type": "execute_result"
    }
   ],
   "source": [
    "# len of user_log\n",
    "user_log.count()"
   ]
  },
  {
   "cell_type": "code",
   "execution_count": 5,
   "metadata": {},
   "outputs": [
    {
     "data": {
      "text/plain": [
       "0"
      ]
     },
     "execution_count": 5,
     "metadata": {},
     "output_type": "execute_result"
    }
   ],
   "source": [
    "# check missing values in sessionId\n",
    "user_log.filter(isnull(user_log['sessionId'])).count()"
   ]
  },
  {
   "cell_type": "code",
   "execution_count": 6,
   "metadata": {},
   "outputs": [
    {
     "data": {
      "text/plain": [
       "0"
      ]
     },
     "execution_count": 6,
     "metadata": {},
     "output_type": "execute_result"
    }
   ],
   "source": [
    "# check missing values in userId\n",
    "user_log.filter(isnull(user_log['userId'])).count()"
   ]
  },
  {
   "cell_type": "code",
   "execution_count": 7,
   "metadata": {},
   "outputs": [],
   "source": [
    "# user_log to Pandas\n",
    "user_log_pd = user_log.toPandas()"
   ]
  },
  {
   "cell_type": "code",
   "execution_count": 8,
   "metadata": {},
   "outputs": [
    {
     "name": "stdout",
     "output_type": "stream",
     "text": [
      "<class 'pandas.core.frame.DataFrame'>\n",
      "RangeIndex: 286500 entries, 0 to 286499\n",
      "Data columns (total 18 columns):\n",
      "artist           228108 non-null object\n",
      "auth             286500 non-null object\n",
      "firstName        278154 non-null object\n",
      "gender           278154 non-null object\n",
      "itemInSession    286500 non-null int64\n",
      "lastName         278154 non-null object\n",
      "length           228108 non-null float64\n",
      "level            286500 non-null object\n",
      "location         278154 non-null object\n",
      "method           286500 non-null object\n",
      "page             286500 non-null object\n",
      "registration     278154 non-null float64\n",
      "sessionId        286500 non-null int64\n",
      "song             228108 non-null object\n",
      "status           286500 non-null int64\n",
      "ts               286500 non-null int64\n",
      "userAgent        278154 non-null object\n",
      "userId           286500 non-null object\n",
      "dtypes: float64(2), int64(4), object(12)\n",
      "memory usage: 39.3+ MB\n"
     ]
    }
   ],
   "source": [
    "user_log_pd.info()"
   ]
  },
  {
   "cell_type": "code",
   "execution_count": 9,
   "metadata": {},
   "outputs": [
    {
     "data": {
      "text/plain": [
       "NextSong                     228108\n",
       "Home                          14457\n",
       "Thumbs Up                     12551\n",
       "Add to Playlist                6526\n",
       "Add Friend                     4277\n",
       "Roll Advert                    3933\n",
       "Login                          3241\n",
       "Logout                         3226\n",
       "Thumbs Down                    2546\n",
       "Downgrade                      2055\n",
       "Help                           1726\n",
       "Settings                       1514\n",
       "About                           924\n",
       "Upgrade                         499\n",
       "Save Settings                   310\n",
       "Error                           258\n",
       "Submit Upgrade                  159\n",
       "Submit Downgrade                 63\n",
       "Cancel                           52\n",
       "Cancellation Confirmation        52\n",
       "Register                         18\n",
       "Submit Registration               5\n",
       "Name: page, dtype: int64"
      ]
     },
     "execution_count": 9,
     "metadata": {},
     "output_type": "execute_result"
    }
   ],
   "source": [
    "# how many of each page event are there\n",
    "user_log_pd.page.value_counts()"
   ]
  },
  {
   "cell_type": "markdown",
   "metadata": {},
   "source": [
    "NextSong is in the top of the page events. Cancellation Confirmation just have 52."
   ]
  },
  {
   "cell_type": "code",
   "execution_count": 10,
   "metadata": {},
   "outputs": [
    {
     "name": "stdout",
     "output_type": "stream",
     "text": [
      "+-------+-----------------+\n",
      "|summary|        sessionId|\n",
      "+-------+-----------------+\n",
      "|  count|           286500|\n",
      "|   mean|1041.526554973822|\n",
      "| stddev|726.7762634630741|\n",
      "|    min|                1|\n",
      "|    max|             2474|\n",
      "+-------+-----------------+\n",
      "\n"
     ]
    }
   ],
   "source": [
    "# statistics of `sessionId`\n",
    "user_log.describe(\"sessionId\").show()"
   ]
  },
  {
   "cell_type": "code",
   "execution_count": 11,
   "metadata": {},
   "outputs": [
    {
     "name": "stdout",
     "output_type": "stream",
     "text": [
      "+-------+-----------------+\n",
      "|summary|           userId|\n",
      "+-------+-----------------+\n",
      "|  count|           286500|\n",
      "|   mean|59682.02278593872|\n",
      "| stddev|109091.9499991047|\n",
      "|    min|                 |\n",
      "|    max|               99|\n",
      "+-------+-----------------+\n",
      "\n"
     ]
    }
   ],
   "source": [
    "# statistics of `userId`\n",
    "user_log.describe(\"userId\").show()"
   ]
  },
  {
   "cell_type": "code",
   "execution_count": 12,
   "metadata": {},
   "outputs": [
    {
     "data": {
      "text/plain": [
       "[Row(userId='99', firstName='Madison', page='Home', song=None),\n",
       " Row(userId='99', firstName='Madison', page='NextSong', song='Welcome (Album Version)'),\n",
       " Row(userId='99', firstName='Madison', page='NextSong', song='Si No Existo (Live)'),\n",
       " Row(userId='99', firstName='Madison', page='NextSong', song='Moments with Oliver'),\n",
       " Row(userId='99', firstName='Madison', page='NextSong', song='Si Do Mhaimeo I'),\n",
       " Row(userId='99', firstName='Madison', page='Thumbs Down', song=None),\n",
       " Row(userId='99', firstName='Madison', page='NextSong', song='Coleccionista De Canciones'),\n",
       " Row(userId='99', firstName='Madison', page='Roll Advert', song=None),\n",
       " Row(userId='99', firstName='Madison', page='NextSong', song='Opposite Of Adults'),\n",
       " Row(userId='99', firstName='Madison', page='Thumbs Up', song=None),\n",
       " Row(userId='99', firstName='Madison', page='NextSong', song='PrÃ\\x83Âªte A Porter'),\n",
       " Row(userId='99', firstName='Madison', page='NextSong', song='Freedom'),\n",
       " Row(userId='99', firstName='Madison', page='NextSong', song='SinceritÃ\\x83Â© Et Jalousie'),\n",
       " Row(userId='99', firstName='Madison', page='NextSong', song='Bright Lights (Instrumental)'),\n",
       " Row(userId='99', firstName='Madison', page='NextSong', song='Unite (2009 Digital Remaster)'),\n",
       " Row(userId='99', firstName='Madison', page='NextSong', song='Hilikus'),\n",
       " Row(userId='99', firstName='Madison', page='NextSong', song='Call Me Up'),\n",
       " Row(userId='99', firstName='Madison', page='Add to Playlist', song=None),\n",
       " Row(userId='99', firstName='Madison', page='NextSong', song='Gethsemane'),\n",
       " Row(userId='99', firstName='Madison', page='NextSong', song='You Belong With Me'),\n",
       " Row(userId='99', firstName='Madison', page='NextSong', song='Above Me'),\n",
       " Row(userId='99', firstName='Madison', page='Roll Advert', song=None),\n",
       " Row(userId='99', firstName='Madison', page='NextSong', song='Unwell (Album Version)'),\n",
       " Row(userId='99', firstName='Madison', page='NextSong', song='Te Amo'),\n",
       " Row(userId='99', firstName='Madison', page='Home', song=None),\n",
       " Row(userId='99', firstName='Madison', page='Add Friend', song=None),\n",
       " Row(userId='99', firstName='Madison', page='Home', song=None),\n",
       " Row(userId='99', firstName='Madison', page='NextSong', song='Invincible'),\n",
       " Row(userId='99', firstName='Madison', page='Roll Advert', song=None),\n",
       " Row(userId='99', firstName='Madison', page='NextSong', song='Be With Me'),\n",
       " Row(userId='99', firstName='Madison', page='NextSong', song='I Need Your Love'),\n",
       " Row(userId='99', firstName='Madison', page='NextSong', song='After Afterall'),\n",
       " Row(userId='99', firstName='Madison', page='NextSong', song='Heads Will Roll'),\n",
       " Row(userId='99', firstName='Madison', page='NextSong', song='Bring Me To Life'),\n",
       " Row(userId='99', firstName='Madison', page='Roll Advert', song=None),\n",
       " Row(userId='99', firstName='Madison', page='NextSong', song='Mirrors'),\n",
       " Row(userId='99', firstName='Madison', page='Thumbs Down', song=None),\n",
       " Row(userId='99', firstName='Madison', page='NextSong', song='Eres'),\n",
       " Row(userId='99', firstName='Madison', page='NextSong', song='American Love (Album Version)'),\n",
       " Row(userId='99', firstName='Madison', page='NextSong', song='Tribute'),\n",
       " Row(userId='99', firstName='Madison', page='NextSong', song='Canada'),\n",
       " Row(userId='99', firstName='Madison', page='NextSong', song='Floating'),\n",
       " Row(userId='99', firstName='Madison', page='NextSong', song='Out Of Limits'),\n",
       " Row(userId='99', firstName='Madison', page='NextSong', song='Love In The Harbour'),\n",
       " Row(userId='99', firstName='Madison', page='NextSong', song='Calico'),\n",
       " Row(userId='99', firstName='Madison', page='NextSong', song='What If (Film Version)'),\n",
       " Row(userId='99', firstName='Madison', page='Home', song=None),\n",
       " Row(userId='99', firstName='Madison', page='Home', song=None),\n",
       " Row(userId='99', firstName='Madison', page='NextSong', song='Like A Virgin (Edit Version)'),\n",
       " Row(userId='99', firstName='Madison', page='NextSong', song='Fuck Kitty'),\n",
       " Row(userId='99', firstName='Madison', page='NextSong', song='I Scare Myself'),\n",
       " Row(userId='99', firstName='Madison', page='Roll Advert', song=None),\n",
       " Row(userId='99', firstName='Madison', page='NextSong', song=\"Ain't Misbehavin\"),\n",
       " Row(userId='99', firstName='Madison', page='NextSong', song='Someone Like You'),\n",
       " Row(userId='99', firstName='Madison', page='NextSong', song='I Got Yo Boyfriend'),\n",
       " Row(userId='99', firstName='Madison', page='NextSong', song='Ruanaway'),\n",
       " Row(userId='99', firstName='Madison', page='NextSong', song='Always Remember'),\n",
       " Row(userId='99', firstName='Madison', page='NextSong', song='Punch You In The Jeans'),\n",
       " Row(userId='99', firstName='Madison', page='NextSong', song=\"I'm Here\"),\n",
       " Row(userId='99', firstName='Madison', page='NextSong', song='Once Upon A December (Deana Carter Version)'),\n",
       " Row(userId='99', firstName='Madison', page='NextSong', song='Si Volvieras A Mi (Album Version)'),\n",
       " Row(userId='99', firstName='Madison', page='NextSong', song='Ole hiljaa'),\n",
       " Row(userId='99', firstName='Madison', page='NextSong', song='Dances of Resistance'),\n",
       " Row(userId='99', firstName='Madison', page='Roll Advert', song=None),\n",
       " Row(userId='99', firstName='Madison', page='NextSong', song='Stop Being Greedy'),\n",
       " Row(userId='99', firstName='Madison', page='NextSong', song='Anyone Else But You'),\n",
       " Row(userId='99', firstName='Madison', page='NextSong', song='Wild Wild West'),\n",
       " Row(userId='99', firstName='Madison', page='NextSong', song='Friendly Man'),\n",
       " Row(userId='99', firstName='Madison', page='NextSong', song='Venus'),\n",
       " Row(userId='99', firstName='Madison', page='Logout', song=None),\n",
       " Row(userId='99', firstName='Madison', page='Home', song=None),\n",
       " Row(userId='99', firstName='Madison', page='NextSong', song='Cross Of Christ'),\n",
       " Row(userId='99', firstName='Madison', page='NextSong', song='Passive Aggressive'),\n",
       " Row(userId='99', firstName='Madison', page='NextSong', song='ReprÃ\\x83Â©sente'),\n",
       " Row(userId='99', firstName='Madison', page='NextSong', song='Voices On A String (Album Version)'),\n",
       " Row(userId='99', firstName='Madison', page='NextSong', song='747 (We Ran Out Of Time)'),\n",
       " Row(userId='99', firstName='Madison', page='NextSong', song='Lithium'),\n",
       " Row(userId='99', firstName='Madison', page='Home', song=None),\n",
       " Row(userId='99', firstName='Madison', page='NextSong', song='The Backseat'),\n",
       " Row(userId='99', firstName='Madison', page='NextSong', song='Dreamchaser (Album Version)'),\n",
       " Row(userId='99', firstName='Madison', page='Roll Advert', song=None),\n",
       " Row(userId='99', firstName='Madison', page='NextSong', song='Bigger'),\n",
       " Row(userId='99', firstName='Madison', page='Add to Playlist', song=None),\n",
       " Row(userId='99', firstName='Madison', page='NextSong', song='Raga Haripriya'),\n",
       " Row(userId='99', firstName='Madison', page='Settings', song=None),\n",
       " Row(userId='99', firstName='Madison', page='NextSong', song='Buggley Eyes'),\n",
       " Row(userId='99', firstName='Madison', page='Home', song=None),\n",
       " Row(userId='99', firstName='Madison', page='NextSong', song='My Immortal (Album Version)'),\n",
       " Row(userId='99', firstName='Madison', page='Logout', song=None),\n",
       " Row(userId='99', firstName='Madison', page='Home', song=None),\n",
       " Row(userId='99', firstName='Madison', page='NextSong', song='Horn Concerto No. 4 in E flat K495: II. Romance (Andante cantabile)'),\n",
       " Row(userId='99', firstName='Madison', page='NextSong', song='Rockin Round The World'),\n",
       " Row(userId='99', firstName='Madison', page='NextSong', song='Provider'),\n",
       " Row(userId='99', firstName='Madison', page='NextSong', song='Time_ Time_ Time'),\n",
       " Row(userId='99', firstName='Madison', page='NextSong', song='The Path To Decay'),\n",
       " Row(userId='99', firstName='Madison', page='NextSong', song='Luvstruck'),\n",
       " Row(userId='99', firstName='Madison', page='NextSong', song='Love Can Damage Your Health'),\n",
       " Row(userId='99', firstName='Madison', page='NextSong', song='FTS'),\n",
       " Row(userId='99', firstName='Madison', page='NextSong', song='The Wild Hunt'),\n",
       " Row(userId='99', firstName='Madison', page='NextSong', song='The Scientist'),\n",
       " Row(userId='99', firstName='Madison', page='NextSong', song='Fireflies'),\n",
       " Row(userId='99', firstName='Madison', page='NextSong', song='No Mires Al Cielo'),\n",
       " Row(userId='99', firstName='Madison', page='NextSong', song='Life Of Uncertainty'),\n",
       " Row(userId='99', firstName='Madison', page='Thumbs Up', song=None),\n",
       " Row(userId='99', firstName='Madison', page='NextSong', song='Smile (Explicit Version)'),\n",
       " Row(userId='99', firstName='Madison', page='NextSong', song='I See You_ You See Me'),\n",
       " Row(userId='99', firstName='Madison', page='NextSong', song='Le Monde'),\n",
       " Row(userId='99', firstName='Madison', page='NextSong', song='Newspaper Reporter'),\n",
       " Row(userId='99', firstName='Madison', page='NextSong', song='Dias azules'),\n",
       " Row(userId='99', firstName='Madison', page='Thumbs Up', song=None),\n",
       " Row(userId='99', firstName='Madison', page='NextSong', song='Yah Mo Be There'),\n",
       " Row(userId='99', firstName='Madison', page='NextSong', song='SoÃ\\x83Â±ador Eterno'),\n",
       " Row(userId='99', firstName='Madison', page='Roll Advert', song=None),\n",
       " Row(userId='99', firstName='Madison', page='NextSong', song='Het Laatste Wonder'),\n",
       " Row(userId='99', firstName='Madison', page='NextSong', song=\"Learo_ You're A Hole\"),\n",
       " Row(userId='99', firstName='Madison', page='Upgrade', song=None),\n",
       " Row(userId='99', firstName='Madison', page='NextSong', song='Sing Our Own Song'),\n",
       " Row(userId='99', firstName='Madison', page='NextSong', song='Trenches'),\n",
       " Row(userId='99', firstName='Madison', page='Thumbs Down', song=None),\n",
       " Row(userId='99', firstName='Madison', page='NextSong', song='What You Know'),\n",
       " Row(userId='99', firstName='Madison', page='NextSong', song='The News from Your Bed'),\n",
       " Row(userId='99', firstName='Madison', page='NextSong', song='Alerion (feat. NO)'),\n",
       " Row(userId='99', firstName='Madison', page='NextSong', song='The Grease Mega-Mix'),\n",
       " Row(userId='99', firstName='Madison', page='NextSong', song='Long Cool Woman In A Black Dress'),\n",
       " Row(userId='99', firstName='Madison', page='NextSong', song='Untold'),\n",
       " Row(userId='99', firstName='Madison', page='NextSong', song='Boten Anna [Radio edit]'),\n",
       " Row(userId='99', firstName='Madison', page='NextSong', song='Mercy Mercy Me (The Ecology)'),\n",
       " Row(userId='99', firstName='Madison', page='NextSong', song='The Way He Was Raised'),\n",
       " Row(userId='99', firstName='Madison', page='Thumbs Up', song=None),\n",
       " Row(userId='99', firstName='Madison', page='NextSong', song='The Scientist'),\n",
       " Row(userId='99', firstName='Madison', page='NextSong', song='Talk Of The Town'),\n",
       " Row(userId='99', firstName='Madison', page='NextSong', song='Where You From?'),\n",
       " Row(userId='99', firstName='Madison', page='NextSong', song='Surrender'),\n",
       " Row(userId='99', firstName='Madison', page='NextSong', song='Pocket Porn (1990)'),\n",
       " Row(userId='99', firstName='Madison', page='Roll Advert', song=None),\n",
       " Row(userId='99', firstName='Madison', page='NextSong', song='Bad Day'),\n",
       " Row(userId='99', firstName='Madison', page='NextSong', song='Street Lights'),\n",
       " Row(userId='99', firstName='Madison', page='NextSong', song='Make Love To Your Mind'),\n",
       " Row(userId='99', firstName='Madison', page='Upgrade', song=None),\n",
       " Row(userId='99', firstName='Madison', page='Submit Upgrade', song=None),\n",
       " Row(userId='99', firstName='Madison', page='Home', song=None),\n",
       " Row(userId='99', firstName='Madison', page='NextSong', song=\"Hips Don't Lie\"),\n",
       " Row(userId='99', firstName='Madison', page='Thumbs Up', song=None),\n",
       " Row(userId='99', firstName='Madison', page='NextSong', song='Rock A My Soul'),\n",
       " Row(userId='99', firstName='Madison', page='NextSong', song='Luvstruck'),\n",
       " Row(userId='99', firstName='Madison', page='NextSong', song=\"Don't Stop The Music\"),\n",
       " Row(userId='99', firstName='Madison', page='NextSong', song='Blacks'),\n",
       " Row(userId='99', firstName='Madison', page='Thumbs Up', song=None),\n",
       " Row(userId='99', firstName='Madison', page='NextSong', song='Shoplifters Of The World Unite'),\n",
       " Row(userId='99', firstName='Madison', page='NextSong', song='Moonshadow'),\n",
       " Row(userId='99', firstName='Madison', page='Settings', song=None),\n",
       " Row(userId='99', firstName='Madison', page='NextSong', song=\"This Ain't A Scene_ It's An Arms Race\"),\n",
       " Row(userId='99', firstName='Madison', page='NextSong', song='The Downfall Of Us All'),\n",
       " Row(userId='99', firstName='Madison', page='About', song=None),\n",
       " Row(userId='99', firstName='Madison', page='NextSong', song='Aerodynamite'),\n",
       " Row(userId='99', firstName='Madison', page='NextSong', song='Stuck Between'),\n",
       " Row(userId='99', firstName='Madison', page='NextSong', song='Ride Of Life'),\n",
       " Row(userId='99', firstName='Madison', page='NextSong', song='We Major'),\n",
       " Row(userId='99', firstName='Madison', page='NextSong', song=\"You Be The Anchor That Keeps My Feet On The Ground_ I'll Be The Wings That Keep Your Heart In The Clouds (Album)\"),\n",
       " Row(userId='99', firstName='Madison', page='NextSong', song='Victoria (LP Version)'),\n",
       " Row(userId='99', firstName='Madison', page='NextSong', song='Almaz'),\n",
       " Row(userId='99', firstName='Madison', page='NextSong', song=\"Still Ballin'\"),\n",
       " Row(userId='99', firstName='Madison', page='NextSong', song=\"I'll Write A Song For You\"),\n",
       " Row(userId='99', firstName='Madison', page='NextSong', song='San Francisco Days (Remastered Album Version)'),\n",
       " Row(userId='99', firstName='Madison', page='NextSong', song='Amish Paradise (Parody of \"Gangsta\\'s Paradise\" by Coolio)'),\n",
       " Row(userId='99', firstName='Madison', page='NextSong', song=\"Rollin' & Scratchin'\"),\n",
       " Row(userId='99', firstName='Madison', page='NextSong', song=\"Jazz (We've Got)\"),\n",
       " Row(userId='99', firstName='Madison', page='Add Friend', song=None),\n",
       " Row(userId='99', firstName='Madison', page='NextSong', song='A Nightmare To Remember (Album Version)'),\n",
       " Row(userId='99', firstName='Madison', page='NextSong', song='Changes'),\n",
       " Row(userId='99', firstName='Madison', page='NextSong', song='Heartbreak Warfare'),\n",
       " Row(userId='99', firstName='Madison', page='Thumbs Up', song=None),\n",
       " Row(userId='99', firstName='Madison', page='NextSong', song='Palestina'),\n",
       " Row(userId='99', firstName='Madison', page='Add Friend', song=None),\n",
       " Row(userId='99', firstName='Madison', page='Home', song=None),\n",
       " Row(userId='99', firstName='Madison', page='NextSong', song='Times Like These'),\n",
       " Row(userId='99', firstName='Madison', page='NextSong', song='Mother In-Law'),\n",
       " Row(userId='99', firstName='Madison', page='NextSong', song='Stand To The Side'),\n",
       " Row(userId='99', firstName='Madison', page='NextSong', song='That\\x19s All I Need To Know (Digitally Remastered)'),\n",
       " Row(userId='99', firstName='Madison', page='NextSong', song='Smile'),\n",
       " Row(userId='99', firstName='Madison', page='Thumbs Up', song=None),\n",
       " Row(userId='99', firstName='Madison', page='NextSong', song='Quiero Quererte Querer'),\n",
       " Row(userId='99', firstName='Madison', page='NextSong', song='Just Dance'),\n",
       " Row(userId='99', firstName='Madison', page='NextSong', song='The Damage In Your Heart'),\n",
       " Row(userId='99', firstName='Madison', page='NextSong', song='Simple Things (Work It Out)'),\n",
       " Row(userId='99', firstName='Madison', page='NextSong', song='Perfect Crime'),\n",
       " Row(userId='99', firstName='Madison', page='NextSong', song='Que voy a hacer con mi amor'),\n",
       " Row(userId='99', firstName='Madison', page='Thumbs Up', song=None),\n",
       " Row(userId='99', firstName='Madison', page='NextSong', song='Quasar'),\n",
       " Row(userId='99', firstName='Madison', page='NextSong', song='Canada'),\n",
       " Row(userId='99', firstName='Madison', page='NextSong', song=\"I CAN'T GET STARTED\"),\n",
       " Row(userId='99', firstName='Madison', page='NextSong', song='The Fox (Live from The Freight and Salvage_ Nov. 16_ 2000)'),\n",
       " Row(userId='99', firstName='Madison', page='NextSong', song='Somatically Incorrect'),\n",
       " Row(userId='99', firstName='Madison', page='NextSong', song='DÃ\\x83Â©senchantÃ\\x83Â©e'),\n",
       " Row(userId='99', firstName='Madison', page='NextSong', song=\"You're So Last Summer (Album Version)\"),\n",
       " Row(userId='99', firstName='Madison', page='NextSong', song='In My Secret Life'),\n",
       " Row(userId='99', firstName='Madison', page='NextSong', song='The Arms of Sorrow (Album Version)'),\n",
       " Row(userId='99', firstName='Madison', page='NextSong', song='W'),\n",
       " Row(userId='99', firstName='Madison', page='NextSong', song='Spaceman'),\n",
       " Row(userId='99', firstName='Madison', page='NextSong', song='Gritarle Al Viento'),\n",
       " Row(userId='99', firstName='Madison', page='NextSong', song=\"Prodigal Son (Harvey's A Star In Your Own Mind Mix)\"),\n",
       " Row(userId='99', firstName='Madison', page='NextSong', song='My Little Man'),\n",
       " Row(userId='99', firstName='Madison', page='NextSong', song=\"Don't Cry\"),\n",
       " Row(userId='99', firstName='Madison', page='NextSong', song='My Name Is'),\n",
       " Row(userId='99', firstName='Madison', page='NextSong', song='Right Right Now Now'),\n",
       " Row(userId='99', firstName='Madison', page='NextSong', song='Que dira el santo padre'),\n",
       " Row(userId='99', firstName='Madison', page='NextSong', song='Bleak'),\n",
       " Row(userId='99', firstName='Madison', page='NextSong', song='Get Up And Go'),\n",
       " Row(userId='99', firstName='Madison', page='NextSong', song='143'),\n",
       " Row(userId='99', firstName='Madison', page='NextSong', song='One Minute To Midnight'),\n",
       " Row(userId='99', firstName='Madison', page='NextSong', song='If I Had You'),\n",
       " Row(userId='99', firstName='Madison', page='NextSong', song='Soil To The Sun'),\n",
       " Row(userId='99', firstName='Madison', page='NextSong', song=\"Can't You See\"),\n",
       " Row(userId='99', firstName='Madison', page='NextSong', song='M79 (Album)'),\n",
       " Row(userId='99', firstName='Madison', page='NextSong', song='In Brooklyn After Dark'),\n",
       " Row(userId='99', firstName='Madison', page='NextSong', song='I Still Remember'),\n",
       " Row(userId='99', firstName='Madison', page='NextSong', song='Anniversary Song (Album Version)'),\n",
       " Row(userId='99', firstName='Madison', page='NextSong', song='Aerials'),\n",
       " Row(userId='99', firstName='Madison', page='NextSong', song='Satellite'),\n",
       " Row(userId='99', firstName='Madison', page='NextSong', song=\"Everything's Magic\"),\n",
       " Row(userId='99', firstName='Madison', page='NextSong', song=\"It's My Life\"),\n",
       " Row(userId='99', firstName='Madison', page='NextSong', song='Piano Smasher'),\n",
       " Row(userId='99', firstName='Madison', page='NextSong', song=\"Moar Ghosts 'n' Stuff\"),\n",
       " Row(userId='99', firstName='Madison', page='NextSong', song='Give Me Your Eyes'),\n",
       " Row(userId='99', firstName='Madison', page='NextSong', song=\"Can't Stand Me Now\"),\n",
       " Row(userId='99', firstName='Madison', page='NextSong', song='Pitas Sorrow'),\n",
       " Row(userId='99', firstName='Madison', page='Logout', song=None),\n",
       " Row(userId='99', firstName='Madison', page='Home', song=None),\n",
       " Row(userId='99', firstName='Madison', page='NextSong', song='In The Presence Of Enemies Pt. 2'),\n",
       " Row(userId='99', firstName='Madison', page='NextSong', song='Mr. Crowley'),\n",
       " Row(userId='99', firstName='Madison', page='Settings', song=None),\n",
       " Row(userId='99', firstName='Madison', page='Add Friend', song=None),\n",
       " Row(userId='99', firstName='Madison', page='Add Friend', song=None),\n",
       " Row(userId='99', firstName='Madison', page='NextSong', song='All I Could Bleed (LP Version)'),\n",
       " Row(userId='99', firstName='Madison', page='NextSong', song='Speed Of Sound'),\n",
       " Row(userId='99', firstName='Madison', page='NextSong', song='The Bakery'),\n",
       " Row(userId='99', firstName='Madison', page='NextSong', song='Fools'),\n",
       " Row(userId='99', firstName='Madison', page='NextSong', song='Mother In-Law'),\n",
       " Row(userId='99', firstName='Madison', page='NextSong', song='Your Bones'),\n",
       " Row(userId='99', firstName='Madison', page='NextSong', song='No Brainer'),\n",
       " Row(userId='99', firstName='Madison', page='NextSong', song='Like A Boss'),\n",
       " Row(userId='99', firstName='Madison', page='NextSong', song='Broken Man'),\n",
       " Row(userId='99', firstName='Madison', page='NextSong', song='Nah!'),\n",
       " Row(userId='99', firstName='Madison', page='NextSong', song=\"Stay With Me [Everybody's Free] [MySparks Edit]\"),\n",
       " Row(userId='99', firstName='Madison', page='NextSong', song='The News'),\n",
       " Row(userId='99', firstName='Madison', page='NextSong', song='Jesus & Bartenders'),\n",
       " Row(userId='99', firstName='Madison', page='NextSong', song='Your Body is a temple'),\n",
       " Row(userId='99', firstName='Madison', page='NextSong', song='Welcome Home (Sanitarium)'),\n",
       " Row(userId='99', firstName='Madison', page='NextSong', song='Walk A Little Straighter'),\n",
       " Row(userId='99', firstName='Madison', page='NextSong', song='Smoking On Purple (feat. Webbie) (amended album version)'),\n",
       " Row(userId='99', firstName='Madison', page='NextSong', song=\"Say It Ain't So\"),\n",
       " Row(userId='99', firstName='Madison', page='NextSong', song='Empty Baseball Park'),\n",
       " Row(userId='99', firstName='Madison', page='NextSong', song='Divorce Song'),\n",
       " Row(userId='99', firstName='Madison', page='NextSong', song='East L.A. (LP Version)'),\n",
       " Row(userId='99', firstName='Madison', page='NextSong', song='Bent (LP Version)'),\n",
       " Row(userId='99', firstName='Madison', page='NextSong', song='Nothing'),\n",
       " Row(userId='99', firstName='Madison', page='NextSong', song='Something (Album Version)'),\n",
       " Row(userId='99', firstName='Madison', page='NextSong', song='ICH TU DIR WEH'),\n",
       " Row(userId='99', firstName='Madison', page='NextSong', song='Bodies'),\n",
       " Row(userId='99', firstName='Madison', page='NextSong', song='Home'),\n",
       " Row(userId='99', firstName='Madison', page='NextSong', song='Welcome To The Black Parade (Album Version)'),\n",
       " Row(userId='99', firstName='Madison', page='NextSong', song='Go To Sleep'),\n",
       " Row(userId='99', firstName='Madison', page='NextSong', song='Sugar Box'),\n",
       " Row(userId='99', firstName='Madison', page='Roll Advert', song=None),\n",
       " Row(userId='99', firstName='Madison', page='NextSong', song='Baby Blue'),\n",
       " Row(userId='99', firstName='Madison', page='NextSong', song='Dark eternity'),\n",
       " Row(userId='99', firstName='Madison', page='NextSong', song=\"I'm In The House\"),\n",
       " Row(userId='99', firstName='Madison', page='NextSong', song=\"Hang 'Em High (Album Version)\"),\n",
       " Row(userId='99', firstName='Madison', page='NextSong', song='Hunger Strike'),\n",
       " Row(userId='99', firstName='Madison', page='NextSong', song='Slash Dot Dash'),\n",
       " Row(userId='99', firstName='Madison', page='NextSong', song='The Fling'),\n",
       " Row(userId='99', firstName='Madison', page='NextSong', song='Bubble Toes'),\n",
       " Row(userId='99', firstName='Madison', page='NextSong', song='Ice'),\n",
       " Row(userId='99', firstName='Madison', page='NextSong', song='Propane Nightmares [Celldweller remix]'),\n",
       " Row(userId='99', firstName='Madison', page='NextSong', song='Microphones in the Trees'),\n",
       " Row(userId='99', firstName='Madison', page='NextSong', song='Interstate Love Song (LP Version)'),\n",
       " Row(userId='99', firstName='Madison', page='NextSong', song='Dog Days Are Over (Radio Edit)'),\n",
       " Row(userId='99', firstName='Madison', page='NextSong', song='Crack A Bottle'),\n",
       " Row(userId='99', firstName='Madison', page='NextSong', song='Empire Ants (Feat. Little Dragon)'),\n",
       " Row(userId='99', firstName='Madison', page='NextSong', song='La Fokin Moda'),\n",
       " Row(userId='99', firstName='Madison', page='NextSong', song='Teach Me How To Dougie'),\n",
       " Row(userId='99', firstName='Madison', page='NextSong', song='Superman'),\n",
       " Row(userId='99', firstName='Madison', page='NextSong', song='Where Would I Be (The Question)'),\n",
       " Row(userId='99', firstName='Madison', page='Thumbs Up', song=None),\n",
       " Row(userId='99', firstName='Madison', page='NextSong', song=\"I'm Every Woman\"),\n",
       " Row(userId='99', firstName='Madison', page='NextSong', song='Half Of My Heart'),\n",
       " Row(userId='99', firstName='Madison', page='NextSong', song='Baby M'),\n",
       " Row(userId='99', firstName='Madison', page='NextSong', song='ReprÃ\\x83Â©sente'),\n",
       " Row(userId='99', firstName='Madison', page='NextSong', song='Billionaire [feat. Bruno Mars]  (Explicit Album Version)'),\n",
       " Row(userId='99', firstName='Madison', page='NextSong', song='Paris_ Tokyo (Explicit Album Version)'),\n",
       " Row(userId='99', firstName='Madison', page='NextSong', song='Una Confusion'),\n",
       " Row(userId='99', firstName='Madison', page='Add Friend', song=None),\n",
       " Row(userId='99', firstName='Madison', page='NextSong', song=\"You're The One\"),\n",
       " Row(userId='99', firstName='Madison', page='NextSong', song='Turn The Page'),\n",
       " Row(userId='99', firstName='Madison', page='Home', song=None),\n",
       " Row(userId='99', firstName='Madison', page='NextSong', song='Tighten Up'),\n",
       " Row(userId='99', firstName='Madison', page='NextSong', song='Anyone Else But You'),\n",
       " Row(userId='99', firstName='Madison', page='NextSong', song='The Disconnect'),\n",
       " Row(userId='99', firstName='Madison', page='Add to Playlist', song=None),\n",
       " Row(userId='99', firstName='Madison', page='NextSong', song='Boulder Holder'),\n",
       " Row(userId='99', firstName='Madison', page='NextSong', song='Robot Rock'),\n",
       " Row(userId='99', firstName='Madison', page='NextSong', song='Try To Forget'),\n",
       " Row(userId='99', firstName='Madison', page='NextSong', song='A Message To You Rudy'),\n",
       " Row(userId='99', firstName='Madison', page='NextSong', song='Sleep In The Garden'),\n",
       " Row(userId='99', firstName='Madison', page='NextSong', song='Creil City'),\n",
       " Row(userId='99', firstName='Madison', page='NextSong', song='In My Place'),\n",
       " Row(userId='99', firstName='Madison', page='NextSong', song='The Middle'),\n",
       " Row(userId='99', firstName='Madison', page='NextSong', song='Something (Album Version)'),\n",
       " Row(userId='99', firstName='Madison', page='NextSong', song='Favorite Girl'),\n",
       " Row(userId='99', firstName='Madison', page='NextSong', song='Le Courage Des Oiseaux'),\n",
       " Row(userId='99', firstName='Madison', page='NextSong', song='Dance With Me'),\n",
       " Row(userId='99', firstName='Madison', page='Logout', song=None),\n",
       " Row(userId='99', firstName='Madison', page='Home', song=None),\n",
       " Row(userId='99', firstName='Madison', page='NextSong', song='Luv Me_ Luv Me'),\n",
       " Row(userId='99', firstName='Madison', page='NextSong', song='Human After All (The Juan Mclean Remix )'),\n",
       " Row(userId='99', firstName='Madison', page='NextSong', song='Bucci Bag'),\n",
       " Row(userId='99', firstName='Madison', page='Home', song=None),\n",
       " Row(userId='99', firstName='Madison', page='NextSong', song='Crumbs Off The Table (Feat. Aaron Livingston)'),\n",
       " Row(userId='99', firstName='Madison', page='NextSong', song='Enjoying Myself'),\n",
       " Row(userId='99', firstName='Madison', page='About', song=None),\n",
       " Row(userId='99', firstName='Madison', page='NextSong', song=\"I'm Her Slave (Album)\"),\n",
       " Row(userId='99', firstName='Madison', page='Thumbs Up', song=None),\n",
       " Row(userId='99', firstName='Madison', page='Add to Playlist', song=None),\n",
       " Row(userId='99', firstName='Madison', page='NextSong', song='Nasty'),\n",
       " Row(userId='99', firstName='Madison', page='NextSong', song='Situations'),\n",
       " Row(userId='99', firstName='Madison', page='NextSong', song='Vanilla Sex'),\n",
       " Row(userId='99', firstName='Madison', page='Thumbs Up', song=None),\n",
       " Row(userId='99', firstName='Madison', page='NextSong', song='SinceritÃ\\x83Â© Et Jalousie'),\n",
       " Row(userId='99', firstName='Madison', page='NextSong', song='GO!'),\n",
       " Row(userId='99', firstName='Madison', page='NextSong', song='Oceanside'),\n",
       " Row(userId='99', firstName='Madison', page='NextSong', song='Playground'),\n",
       " Row(userId='99', firstName='Madison', page='NextSong', song='Mockingbird'),\n",
       " Row(userId='99', firstName='Madison', page='NextSong', song='Ether (Album Version)'),\n",
       " Row(userId='99', firstName='Madison', page='NextSong', song='No Surprise'),\n",
       " Row(userId='99', firstName='Madison', page='NextSong', song='Have You Ever Seen The Rain'),\n",
       " Row(userId='99', firstName='Madison', page='NextSong', song='4321'),\n",
       " Row(userId='99', firstName='Madison', page='Home', song=None),\n",
       " Row(userId='99', firstName='Madison', page='NextSong', song='A Song For Sleeping (LP Version)'),\n",
       " Row(userId='99', firstName='Madison', page='Logout', song=None),\n",
       " Row(userId='99', firstName='Madison', page='Home', song=None),\n",
       " Row(userId='99', firstName='Madison', page='NextSong', song='Conversation At the Theatre'),\n",
       " Row(userId='99', firstName='Madison', page='NextSong', song='On/Off'),\n",
       " Row(userId='99', firstName='Madison', page='Thumbs Up', song=None),\n",
       " Row(userId='99', firstName='Madison', page='NextSong', song='U Already Know'),\n",
       " Row(userId='99', firstName='Madison', page='NextSong', song='The Warning'),\n",
       " Row(userId='99', firstName='Madison', page='NextSong', song='Brandenburg'),\n",
       " Row(userId='99', firstName='Madison', page='Thumbs Down', song=None),\n",
       " Row(userId='99', firstName='Madison', page='NextSong', song='Perfectly Lonely'),\n",
       " Row(userId='99', firstName='Madison', page='NextSong', song='One More Time (Short Radio Edit)'),\n",
       " Row(userId='99', firstName='Madison', page='NextSong', song='Like A Pen'),\n",
       " Row(userId='99', firstName='Madison', page='NextSong', song='Story # 1'),\n",
       " Row(userId='99', firstName='Madison', page='NextSong', song=\"Where's Jack The Ripper?\"),\n",
       " Row(userId='99', firstName='Madison', page='NextSong', song='Good Bye Earl'),\n",
       " Row(userId='99', firstName='Madison', page='NextSong', song='Holding Out For A Hero'),\n",
       " Row(userId='99', firstName='Madison', page='NextSong', song='DDT'),\n",
       " Row(userId='99', firstName='Madison', page='NextSong', song='Hochmah (Interlude)'),\n",
       " Row(userId='99', firstName='Madison', page='NextSong', song='Between The Bars'),\n",
       " Row(userId='99', firstName='Madison', page='NextSong', song='Un Dia Gris'),\n",
       " Row(userId='99', firstName='Madison', page='Home', song=None),\n",
       " Row(userId='99', firstName='Madison', page='NextSong', song='The Scientist'),\n",
       " Row(userId='99', firstName='Madison', page='Add to Playlist', song=None),\n",
       " Row(userId='99', firstName='Madison', page='NextSong', song='Satellites'),\n",
       " Row(userId='99', firstName='Madison', page='NextSong', song='Cosmic Love'),\n",
       " Row(userId='99', firstName='Madison', page='Add to Playlist', song=None),\n",
       " Row(userId='99', firstName='Madison', page='NextSong', song='Odd One (Radio Edit)'),\n",
       " Row(userId='99', firstName='Madison', page='NextSong', song=\"What I've Done\"),\n",
       " Row(userId='99', firstName='Madison', page='NextSong', song=\"You're The One\"),\n",
       " Row(userId='99', firstName='Madison', page='NextSong', song='Diner'),\n",
       " Row(userId='99', firstName='Madison', page='NextSong', song='Let It Go'),\n",
       " Row(userId='99', firstName='Madison', page='NextSong', song='I Wonder'),\n",
       " Row(userId='99', firstName='Madison', page='NextSong', song=\"Stumblin'\"),\n",
       " Row(userId='99', firstName='Madison', page='NextSong', song='Pearl Vision'),\n",
       " Row(userId='99', firstName='Madison', page='NextSong', song='Real Thing'),\n",
       " Row(userId='99', firstName='Madison', page='NextSong', song='Revelry'),\n",
       " Row(userId='99', firstName='Madison', page='NextSong', song='Insecto Urbano'),\n",
       " Row(userId='99', firstName='Madison', page='Thumbs Up', song=None),\n",
       " Row(userId='99', firstName='Madison', page='NextSong', song='Lovebug'),\n",
       " Row(userId='99', firstName='Madison', page='Thumbs Up', song=None),\n",
       " Row(userId='99', firstName='Madison', page='NextSong', song='Dress Me Like a Clown'),\n",
       " Row(userId='99', firstName='Madison', page='NextSong', song='Undo'),\n",
       " Row(userId='99', firstName='Madison', page='NextSong', song='Canada'),\n",
       " Row(userId='99', firstName='Madison', page='NextSong', song=\"I'd Rather Go Blind\"),\n",
       " Row(userId='99', firstName='Madison', page='NextSong', song=\"'Til We Die (Album Version)\"),\n",
       " Row(userId='99', firstName='Madison', page='NextSong', song='Up To Zion (Low Key-Premiere Performance Plus w/o Background Vocals)'),\n",
       " Row(userId='99', firstName='Madison', page='NextSong', song='Thrills'),\n",
       " Row(userId='99', firstName='Madison', page='NextSong', song='Hell Breaks Loose'),\n",
       " Row(userId='99', firstName='Madison', page='NextSong', song='Crossroads'),\n",
       " Row(userId='99', firstName='Madison', page='NextSong', song='Pretty'),\n",
       " Row(userId='99', firstName='Madison', page='NextSong', song='Over And Over (Maurice Fulton Dub)'),\n",
       " Row(userId='99', firstName='Madison', page='NextSong', song='Poison (Album Version)'),\n",
       " Row(userId='99', firstName='Madison', page='NextSong', song=\"My Love Hasn't Grown Cold\"),\n",
       " Row(userId='99', firstName='Madison', page='NextSong', song='Behave'),\n",
       " Row(userId='99', firstName='Madison', page='NextSong', song='I Kissed A Girl'),\n",
       " Row(userId='99', firstName='Madison', page='NextSong', song='Lady Marmalade'),\n",
       " Row(userId='99', firstName='Madison', page='Home', song=None),\n",
       " Row(userId='99', firstName='Madison', page='NextSong', song='Absinthe And Rue'),\n",
       " Row(userId='99', firstName='Madison', page='NextSong', song='The Worst Idea'),\n",
       " Row(userId='99', firstName='Madison', page='NextSong', song='Come Close'),\n",
       " Row(userId='99', firstName='Madison', page='Downgrade', song=None),\n",
       " Row(userId='99', firstName='Madison', page='NextSong', song='Glamour Girl'),\n",
       " Row(userId='99', firstName='Madison', page='NextSong', song='Photographs'),\n",
       " Row(userId='99', firstName='Madison', page='NextSong', song='Walk Away'),\n",
       " Row(userId='99', firstName='Madison', page='NextSong', song='Velouria'),\n",
       " Row(userId='99', firstName='Madison', page='Logout', song=None),\n",
       " Row(userId='99', firstName='Madison', page='Home', song=None),\n",
       " Row(userId='99', firstName='Madison', page='NextSong', song='Naturally'),\n",
       " Row(userId='99', firstName='Madison', page='NextSong', song='Fell In Love With A Girl'),\n",
       " Row(userId='99', firstName='Madison', page='NextSong', song=\"God's Snake\"),\n",
       " Row(userId='99', firstName='Madison', page='NextSong', song='Atomic Clock'),\n",
       " Row(userId='99', firstName='Madison', page='NextSong', song='Seven Nation Army'),\n",
       " Row(userId='99', firstName='Madison', page='NextSong', song='Hasta Que Te Conoci'),\n",
       " Row(userId='99', firstName='Madison', page='Thumbs Up', song=None),\n",
       " Row(userId='99', firstName='Madison', page='NextSong', song='Save The Best For Last'),\n",
       " Row(userId='99', firstName='Madison', page='NextSong', song='Leave House'),\n",
       " Row(userId='99', firstName='Madison', page='NextSong', song='Green'),\n",
       " Row(userId='99', firstName='Madison', page='NextSong', song=\"The Zookeeper's Boy\"),\n",
       " Row(userId='99', firstName='Madison', page='NextSong', song='Hotel California'),\n",
       " Row(userId='99', firstName='Madison', page='NextSong', song='New Soul'),\n",
       " Row(userId='99', firstName='Madison', page='NextSong', song='Bodies'),\n",
       " Row(userId='99', firstName='Madison', page='NextSong', song=\"You're Sensational\"),\n",
       " Row(userId='99', firstName='Madison', page='NextSong', song='Walk In The Park'),\n",
       " Row(userId='99', firstName='Madison', page='NextSong', song='Like A Boss'),\n",
       " Row(userId='99', firstName='Madison', page='NextSong', song='Waters Of Nazareth (album version)'),\n",
       " Row(userId='99', firstName='Madison', page='NextSong', song='Wake Me Up'),\n",
       " Row(userId='99', firstName='Madison', page='NextSong', song='Tablespoon of Codeine'),\n",
       " Row(userId='99', firstName='Madison', page='NextSong', song=\"When I Get Home You're So Dead (New Version) (Album)\"),\n",
       " Row(userId='99', firstName='Madison', page='Add Friend', song=None),\n",
       " Row(userId='99', firstName='Madison', page='NextSong', song='Hello Morning'),\n",
       " Row(userId='99', firstName='Madison', page='Logout', song=None),\n",
       " Row(userId='99', firstName='Madison', page='Home', song=None),\n",
       " Row(userId='99', firstName='Madison', page='NextSong', song='Blaze It Pt II'),\n",
       " Row(userId='99', firstName='Madison', page='NextSong', song='God Of Wonders'),\n",
       " Row(userId='99', firstName='Madison', page='Add Friend', song=None),\n",
       " Row(userId='99', firstName='Madison', page='Add Friend', song=None),\n",
       " Row(userId='99', firstName='Madison', page='NextSong', song='Poetas'),\n",
       " Row(userId='99', firstName='Madison', page='NextSong', song=\"Back In '64\"),\n",
       " Row(userId='99', firstName='Madison', page='Help', song=None),\n",
       " Row(userId='99', firstName='Madison', page='NextSong', song='More Than Anyone'),\n",
       " Row(userId='99', firstName='Madison', page='NextSong', song='Taj Mahal'),\n",
       " Row(userId='99', firstName='Madison', page='Add to Playlist', song=None),\n",
       " Row(userId='99', firstName='Madison', page='NextSong', song='Paper Planes'),\n",
       " Row(userId='99', firstName='Madison', page='NextSong', song='The Whole World'),\n",
       " Row(userId='99', firstName='Madison', page='NextSong', song='Slow Jamz (Feat. Kanye West & Jamie Foxx) (Edited Album Version)'),\n",
       " Row(userId='99', firstName='Madison', page='NextSong', song='Bukowski'),\n",
       " Row(userId='99', firstName='Madison', page='NextSong', song='Before I Forget (Album Version)'),\n",
       " Row(userId='99', firstName='Madison', page='NextSong', song='Fighters (feat. Matthew Santos) (Amended Album Version)'),\n",
       " Row(userId='99', firstName='Madison', page='NextSong', song='American Nightmare'),\n",
       " Row(userId='99', firstName='Madison', page='NextSong', song='God Gave Me Everything'),\n",
       " Row(userId='99', firstName='Madison', page='NextSong', song='Everlong'),\n",
       " Row(userId='99', firstName='Madison', page='NextSong', song='Heiterkeit'),\n",
       " Row(userId='99', firstName='Madison', page='NextSong', song='Bad Apples'),\n",
       " Row(userId='99', firstName='Madison', page='Thumbs Up', song=None),\n",
       " Row(userId='99', firstName='Madison', page='Add to Playlist', song=None),\n",
       " Row(userId='99', firstName='Madison', page='NextSong', song='Hope'),\n",
       " Row(userId='99', firstName='Madison', page='NextSong', song=\"We'll Cross the River Together\"),\n",
       " Row(userId='99', firstName='Madison', page='NextSong', song='OMG'),\n",
       " Row(userId='99', firstName='Madison', page='NextSong', song='A Never Ending Dream'),\n",
       " Row(userId='99', firstName='Madison', page='NextSong', song=\"My World View (Don't Censor Me Album Version)\"),\n",
       " Row(userId='99', firstName='Madison', page='Thumbs Up', song=None),\n",
       " Row(userId='99', firstName='Madison', page='NextSong', song='Drive'),\n",
       " Row(userId='99', firstName='Madison', page='NextSong', song='Dream On'),\n",
       " Row(userId='99', firstName='Madison', page='NextSong', song='Dimelo Tu'),\n",
       " Row(userId='99', firstName='Madison', page='NextSong', song=\"Help Me_ I'm In Need\"),\n",
       " Row(userId='99', firstName='Madison', page='NextSong', song='Your Song'),\n",
       " Row(userId='99', firstName='Madison', page='NextSong', song='Short Skirt/Long Jacket'),\n",
       " Row(userId='99', firstName='Madison', page='NextSong', song='Run (LP Version)'),\n",
       " Row(userId='99', firstName='Madison', page='NextSong', song='Big Bad Bill (Is Sweet William Now) (Album Version)'),\n",
       " Row(userId='99', firstName='Madison', page='NextSong', song=\"Let's Go Away For Awhile (Highlights From Tracking Date)\"),\n",
       " Row(userId='99', firstName='Madison', page='NextSong', song='Try Jah Love'),\n",
       " Row(userId='99', firstName='Madison', page='NextSong', song=\"I'm Good_ I'm Gone\"),\n",
       " Row(userId='99', firstName='Madison', page='NextSong', song='The Brainwasher'),\n",
       " Row(userId='99', firstName='Madison', page='NextSong', song='Gonna Make You Sweat  (Everybody Dance Now)'),\n",
       " Row(userId='99', firstName='Madison', page='NextSong', song='Biggest Mistake'),\n",
       " Row(userId='99', firstName='Madison', page='NextSong', song='My Band'),\n",
       " Row(userId='99', firstName='Madison', page='NextSong', song='Lucky (Album Version)'),\n",
       " Row(userId='99', firstName='Madison', page='NextSong', song='Barbie Girl'),\n",
       " Row(userId='99', firstName='Madison', page='NextSong', song='Feel So Numb'),\n",
       " Row(userId='99', firstName='Madison', page='NextSong', song=\"It's A Fire\"),\n",
       " Row(userId='99', firstName='Madison', page='NextSong', song='Loaded'),\n",
       " Row(userId='99', firstName='Madison', page='NextSong', song='Flashing Lights'),\n",
       " Row(userId='99', firstName='Madison', page='Add Friend', song=None),\n",
       " Row(userId='99', firstName='Madison', page='NextSong', song='Taxi Driver (Album Version)'),\n",
       " Row(userId='99', firstName='Madison', page='Thumbs Up', song=None),\n",
       " Row(userId='99', firstName='Madison', page='NextSong', song='I Love You'),\n",
       " Row(userId='99', firstName='Madison', page='NextSong', song='Are You Hurting The One You Love?'),\n",
       " Row(userId='99', firstName='Madison', page='NextSong', song='Leave The World Behind'),\n",
       " Row(userId='99', firstName='Madison', page='Thumbs Up', song=None),\n",
       " Row(userId='99', firstName='Madison', page='NextSong', song='Ride The Lightning'),\n",
       " Row(userId='99', firstName='Madison', page='NextSong', song='HA HA HA HA HA HA!'),\n",
       " Row(userId='99', firstName='Madison', page='NextSong', song='Never Let Her Slip Away'),\n",
       " Row(userId='99', firstName='Madison', page='NextSong', song='Song 4 Mutya (Out Of Control)'),\n",
       " Row(userId='99', firstName='Madison', page='NextSong', song='Soy Hombre (feat. Arturo Sandoval)'),\n",
       " Row(userId='99', firstName='Madison', page='NextSong', song='On my way'),\n",
       " Row(userId='99', firstName='Madison', page='NextSong', song='ReprÃ\\x83Â©sente'),\n",
       " Row(userId='99', firstName='Madison', page='Downgrade', song=None),\n",
       " Row(userId='99', firstName='Madison', page='NextSong', song='I Believe (DJ Tandu Mix)'),\n",
       " Row(userId='99', firstName='Madison', page='NextSong', song='Sweet Jane'),\n",
       " Row(userId='99', firstName='Madison', page='NextSong', song='Sina'),\n",
       " Row(userId='99', firstName='Madison', page='NextSong', song=\"Fingerlickin' Good\"),\n",
       " Row(userId='99', firstName='Madison', page='NextSong', song='Missing'),\n",
       " Row(userId='99', firstName='Madison', page='NextSong', song='Let It Last'),\n",
       " Row(userId='99', firstName='Madison', page='NextSong', song='Take It Or Leave It'),\n",
       " Row(userId='99', firstName='Madison', page='NextSong', song='Lost In Adeline'),\n",
       " Row(userId='99', firstName='Madison', page='NextSong', song='Entering White Cecilia'),\n",
       " Row(userId='99', firstName='Madison', page='NextSong', song='Hey_ Soul Sister'),\n",
       " Row(userId='99', firstName='Madison', page='NextSong', song='This Afternoon (Album Version)'),\n",
       " Row(userId='99', firstName='Madison', page='NextSong', song='Never Alone (Acoustic Version)'),\n",
       " Row(userId='99', firstName='Madison', page='NextSong', song='Stuck In The Moment'),\n",
       " Row(userId='99', firstName='Madison', page='NextSong', song='Two Worlds (Phil Version)'),\n",
       " Row(userId='99', firstName='Madison', page='Logout', song=None),\n",
       " Row(userId='99', firstName='Madison', page='Home', song=None),\n",
       " Row(userId='99', firstName='Madison', page='NextSong', song='CAFO'),\n",
       " Row(userId='99', firstName='Madison', page='Thumbs Up', song=None),\n",
       " Row(userId='99', firstName='Madison', page='NextSong', song='Just An Illusion'),\n",
       " Row(userId='99', firstName='Madison', page='NextSong', song='No Diggity'),\n",
       " Row(userId='99', firstName='Madison', page='NextSong', song='Monsters Slapen Nooit'),\n",
       " Row(userId='99', firstName='Madison', page='NextSong', song='Are You Gonna Be My Girl (Album Version)'),\n",
       " Row(userId='99', firstName='Madison', page='NextSong', song='Purity (Album Version)'),\n",
       " Row(userId='99', firstName='Madison', page='NextSong', song='Let Me Come On Home ( LP Version )'),\n",
       " Row(userId='99', firstName='Madison', page='NextSong', song='Alternative Baby'),\n",
       " Row(userId='99', firstName='Madison', page='NextSong', song='Nah!'),\n",
       " Row(userId='99', firstName='Madison', page='NextSong', song=\"Mother's Sick\"),\n",
       " Row(userId='99', firstName='Madison', page='Add to Playlist', song=None),\n",
       " Row(userId='99', firstName='Madison', page='NextSong', song='Amused to Death'),\n",
       " Row(userId='99', firstName='Madison', page='NextSong', song='La Perla'),\n",
       " Row(userId='99', firstName='Madison', page='NextSong', song='Dead & Bloated (LP Version)'),\n",
       " Row(userId='99', firstName='Madison', page='NextSong', song='Billionaire [feat. Bruno Mars]  (Explicit Album Version)'),\n",
       " Row(userId='99', firstName='Madison', page='NextSong', song='All Night Long (All Night)'),\n",
       " Row(userId='99', firstName='Madison', page='NextSong', song='Touchy! (Album Version)'),\n",
       " Row(userId='99', firstName='Madison', page='NextSong', song=\"Kissin' Ears [feat. The-Dream] (Explicit Album Version)\"),\n",
       " Row(userId='99', firstName='Madison', page='Thumbs Up', song=None),\n",
       " Row(userId='99', firstName='Madison', page='NextSong', song='Undo'),\n",
       " Row(userId='99', firstName='Madison', page='NextSong', song='Hold My Heart'),\n",
       " Row(userId='99', firstName='Madison', page='NextSong', song='Some Unholy War'),\n",
       " Row(userId='99', firstName='Madison', page='NextSong', song=\"Don't Look Back\"),\n",
       " Row(userId='99', firstName='Madison', page='NextSong', song='Erotic City ( LP Version)'),\n",
       " Row(userId='99', firstName='Madison', page='NextSong', song=\"Devil's Answer\"),\n",
       " Row(userId='99', firstName='Madison', page='NextSong', song='Ashes In The Fall'),\n",
       " Row(userId='99', firstName='Madison', page='NextSong', song='None Shall Pass (Main)'),\n",
       " Row(userId='99', firstName='Madison', page='NextSong', song='Crawling With Idiot'),\n",
       " Row(userId='99', firstName='Madison', page='Thumbs Up', song=None),\n",
       " Row(userId='99', firstName='Madison', page='NextSong', song='Baobabs (Bonus Album Version)'),\n",
       " Row(userId='99', firstName='Madison', page='NextSong', song='Your Song (Alternate Take 10)'),\n",
       " Row(userId='99', firstName='Madison', page='NextSong', song='The Man Who Sold The World'),\n",
       " Row(userId='99', firstName='Madison', page='Home', song=None),\n",
       " Row(userId='99', firstName='Madison', page='NextSong', song='Hoy Te Deje De Amar (copia)'),\n",
       " Row(userId='99', firstName='Madison', page='NextSong', song='Midnight Groovin\\' (7\" Version) (2006 Digital Remaster)'),\n",
       " Row(userId='99', firstName='Madison', page='NextSong', song=\"You'll Be In My Heart\"),\n",
       " Row(userId='99', firstName='Madison', page='NextSong', song='Tell Me Baby (Album Version)'),\n",
       " Row(userId='99', firstName='Madison', page='NextSong', song='All My Stars Aligned'),\n",
       " Row(userId='99', firstName='Madison', page='NextSong', song='All For Swinging You Around'),\n",
       " Row(userId='99', firstName='Madison', page='Thumbs Down', song=None),\n",
       " Row(userId='99', firstName='Madison', page='NextSong', song='Dans Ma Bulle (Edit Radio - Live 2006)'),\n",
       " Row(userId='99', firstName='Madison', page='NextSong', song='Come On'),\n",
       " Row(userId='99', firstName='Madison', page='NextSong', song='Down In The Dive'),\n",
       " Row(userId='99', firstName='Madison', page='NextSong', song='Blues In The Night'),\n",
       " Row(userId='99', firstName='Madison', page='Thumbs Up', song=None),\n",
       " Row(userId='99', firstName='Madison', page='NextSong', song='All The Right Moves'),\n",
       " Row(userId='99', firstName='Madison', page='NextSong', song='Stay Too Long'),\n",
       " Row(userId='99', firstName='Madison', page='NextSong', song='The Weirdness'),\n",
       " Row(userId='99', firstName='Madison', page='NextSong', song=\"don't say you don't\"),\n",
       " Row(userId='99', firstName='Madison', page='NextSong', song='The District Sleeps Alone Tonight (Album)'),\n",
       " Row(userId='99', firstName='Madison', page='NextSong', song='You Have To Come Back To Me'),\n",
       " Row(userId='99', firstName='Madison', page='NextSong', song='Alive'),\n",
       " Row(userId='99', firstName='Madison', page='NextSong', song='Almaz'),\n",
       " Row(userId='99', firstName='Madison', page='Thumbs Up', song=None),\n",
       " Row(userId='99', firstName='Madison', page='NextSong', song='Mamma'),\n",
       " Row(userId='99', firstName='Madison', page='Logout', song=None),\n",
       " Row(userId='99', firstName='Madison', page='Home', song=None),\n",
       " Row(userId='99', firstName='Madison', page='NextSong', song='Lord Over All (Album)'),\n",
       " Row(userId='99', firstName='Madison', page='NextSong', song='Sugar Sugar'),\n",
       " Row(userId='99', firstName='Madison', page='NextSong', song=\"Big S**t Poppin' [Do It] (Explicit Album Version)\"),\n",
       " Row(userId='99', firstName='Madison', page='NextSong', song=\"Bigger Isn't Better\"),\n",
       " Row(userId='99', firstName='Madison', page='Thumbs Up', song=None),\n",
       " Row(userId='99', firstName='Madison', page='NextSong', song='Teddy Picker (Explicit)'),\n",
       " Row(userId='99', firstName='Madison', page='NextSong', song='The Traffic Jam'),\n",
       " Row(userId='99', firstName='Madison', page='NextSong', song='Party In The U.S.A.'),\n",
       " Row(userId='99', firstName='Madison', page='Add Friend', song=None),\n",
       " Row(userId='99', firstName='Madison', page='NextSong', song='Shepherd Moons (Remastered 2009)'),\n",
       " Row(userId='99', firstName='Madison', page='NextSong', song='Krwlng'),\n",
       " Row(userId='99', firstName='Madison', page='NextSong', song='Welcome'),\n",
       " Row(userId='99', firstName='Madison', page='Add Friend', song=None),\n",
       " Row(userId='99', firstName='Madison', page='NextSong', song='Untitled #5'),\n",
       " Row(userId='99', firstName='Madison', page='NextSong', song='Daft Punk Is Playing At My House'),\n",
       " Row(userId='99', firstName='Madison', page='NextSong', song='Trouble'),\n",
       " Row(userId='99', firstName='Madison', page='NextSong', song='Spark My Soul (feat. Substantial)'),\n",
       " Row(userId='99', firstName='Madison', page='NextSong', song='The Scientist'),\n",
       " Row(userId='99', firstName='Madison', page='NextSong', song='Sehr kosmisch'),\n",
       " Row(userId='99', firstName='Madison', page='NextSong', song='Revelry'),\n",
       " Row(userId='99', firstName='Madison', page='NextSong', song='Donde Estas Corazon'),\n",
       " Row(userId='99', firstName='Madison', page='NextSong', song='Bombat'),\n",
       " Row(userId='99', firstName='Madison', page='NextSong', song=\"Erik's Song\"),\n",
       " Row(userId='99', firstName='Madison', page='NextSong', song='A Marshmallow World'),\n",
       " Row(userId='99', firstName='Madison', page='NextSong', song='Lake Flora'),\n",
       " Row(userId='99', firstName='Madison', page='Add to Playlist', song=None),\n",
       " Row(userId='99', firstName='Madison', page='NextSong', song='Up Up & Away'),\n",
       " Row(userId='99', firstName='Madison', page='NextSong', song='So far so long'),\n",
       " Row(userId='99', firstName='Madison', page='NextSong', song='You Learn (Album Version)'),\n",
       " Row(userId='99', firstName='Madison', page='NextSong', song='Lil Love'),\n",
       " Row(userId='99', firstName='Madison', page='NextSong', song='In and Out of Love'),\n",
       " Row(userId='99', firstName='Madison', page='NextSong', song='This Time'),\n",
       " Row(userId='99', firstName='Madison', page='NextSong', song='Guess Who'),\n",
       " Row(userId='99', firstName='Madison', page='NextSong', song='There Is'),\n",
       " Row(userId='99', firstName='Madison', page='NextSong', song='True To Myself'),\n",
       " Row(userId='99', firstName='Madison', page='NextSong', song='Danger (Been So Long)'),\n",
       " Row(userId='99', firstName='Madison', page='NextSong', song=\"Do You Think I'm Spooky?\"),\n",
       " Row(userId='99', firstName='Madison', page='NextSong', song='Rayando el sol'),\n",
       " Row(userId='99', firstName='Madison', page='Thumbs Up', song=None),\n",
       " Row(userId='99', firstName='Madison', page='NextSong', song='Something (Radio Edit)'),\n",
       " Row(userId='99', firstName='Madison', page='NextSong', song='Have Faith In Me'),\n",
       " Row(userId='99', firstName='Madison', page='NextSong', song=\"Sugar_ We're Goin Down\"),\n",
       " Row(userId='99', firstName='Madison', page='NextSong', song=\"We Are Nowhere and It's Now\"),\n",
       " Row(userId='99', firstName='Madison', page='NextSong', song='Besame'),\n",
       " Row(userId='99', firstName='Madison', page='Add to Playlist', song=None)]"
      ]
     },
     "execution_count": 12,
     "metadata": {},
     "output_type": "execute_result"
    }
   ],
   "source": [
    "# some info about a userId = 99 (Madison)\n",
    "user_log.select(['userId', 'firstName', 'page', 'song']).where(user_log.userId == '99').collect()"
   ]
  },
  {
   "cell_type": "code",
   "execution_count": 13,
   "metadata": {
    "scrolled": true
   },
   "outputs": [
    {
     "name": "stdout",
     "output_type": "stream",
     "text": [
      "+--------------------+\n",
      "|                page|\n",
      "+--------------------+\n",
      "|               About|\n",
      "|          Add Friend|\n",
      "|     Add to Playlist|\n",
      "|              Cancel|\n",
      "|Cancellation Conf...|\n",
      "|           Downgrade|\n",
      "|               Error|\n",
      "|                Help|\n",
      "|                Home|\n",
      "|               Login|\n",
      "|              Logout|\n",
      "|            NextSong|\n",
      "|            Register|\n",
      "|         Roll Advert|\n",
      "|       Save Settings|\n",
      "|            Settings|\n",
      "|    Submit Downgrade|\n",
      "| Submit Registration|\n",
      "|      Submit Upgrade|\n",
      "|         Thumbs Down|\n",
      "+--------------------+\n",
      "only showing top 20 rows\n",
      "\n"
     ]
    }
   ],
   "source": [
    "# drop duplicates in `page`\n",
    "user_log.select(\"page\").dropDuplicates().sort(\"page\").show()"
   ]
  },
  {
   "cell_type": "code",
   "execution_count": 14,
   "metadata": {},
   "outputs": [
    {
     "data": {
      "text/plain": [
       "Row(artist='Martha Tilston', auth='Logged In', firstName='Colin', gender='M', itemInSession=50, lastName='Freeman', length=277.89016, level='paid', location='Bakersfield, CA', method='PUT', page='NextSong', registration=1538173362000, sessionId=29, song='Rockpools', status=200, ts=1538352117000, userAgent='Mozilla/5.0 (Windows NT 6.1; WOW64; rv:31.0) Gecko/20100101 Firefox/31.0', userId='30', hour='0')"
      ]
     },
     "execution_count": 14,
     "metadata": {},
     "output_type": "execute_result"
    }
   ],
   "source": [
    "# timestamp to hour\n",
    "get_hour = udf(lambda x: datetime.datetime.fromtimestamp(x / 1000.0). hour)\n",
    "user_log = user_log.withColumn(\"hour\", get_hour(user_log.ts))\n",
    "user_log.head()"
   ]
  },
  {
   "cell_type": "code",
   "execution_count": 15,
   "metadata": {},
   "outputs": [
    {
     "data": {
      "text/plain": [
       "Row(artist='Martha Tilston', auth='Logged In', firstName='Colin', gender='M', itemInSession=50, lastName='Freeman', length=277.89016, level='paid', location='Bakersfield, CA', method='PUT', page='NextSong', registration=1538173362000, sessionId=29, song='Rockpools', status=200, ts=1538352117000, userAgent='Mozilla/5.0 (Windows NT 6.1; WOW64; rv:31.0) Gecko/20100101 Firefox/31.0', userId='30', hour='0', day='1')"
      ]
     },
     "execution_count": 15,
     "metadata": {},
     "output_type": "execute_result"
    }
   ],
   "source": [
    "# timestamp to day\n",
    "get_day = udf(lambda x: datetime.datetime.fromtimestamp(x / 1000.0). day)\n",
    "user_log = user_log.withColumn(\"day\", get_day(user_log.ts))\n",
    "user_log.head()"
   ]
  },
  {
   "cell_type": "code",
   "execution_count": 16,
   "metadata": {},
   "outputs": [
    {
     "name": "stdout",
     "output_type": "stream",
     "text": [
      "+----+-----+\n",
      "|hour|count|\n",
      "+----+-----+\n",
      "|   0| 9062|\n",
      "|   1| 8388|\n",
      "|   2| 8336|\n",
      "|   3| 8355|\n",
      "|   4| 8147|\n",
      "|   5| 8178|\n",
      "|   6| 8054|\n",
      "|   7| 8091|\n",
      "|   8| 8253|\n",
      "|   9| 8498|\n",
      "|  10| 8882|\n",
      "|  11| 8830|\n",
      "|  12| 9326|\n",
      "|  13| 9644|\n",
      "|  14|10494|\n",
      "|  15|11354|\n",
      "|  16|11636|\n",
      "|  17|11460|\n",
      "|  18|11124|\n",
      "|  19|10930|\n",
      "+----+-----+\n",
      "only showing top 20 rows\n",
      "\n"
     ]
    }
   ],
   "source": [
    "# songs in hour\n",
    "songs_in_hour = user_log.filter(user_log.page == \"NextSong\").groupby(user_log.hour).count().orderBy(user_log.hour.cast(\"float\"))\n",
    "songs_in_hour.show()"
   ]
  },
  {
   "cell_type": "code",
   "execution_count": 17,
   "metadata": {},
   "outputs": [],
   "source": [
    "# transform to Pandas dataframe\n",
    "songs_in_hour_pd = songs_in_hour.toPandas()\n",
    "songs_in_hour_pd.hour = pd.to_numeric(songs_in_hour_pd.hour)"
   ]
  },
  {
   "cell_type": "code",
   "execution_count": 18,
   "metadata": {
    "scrolled": true
   },
   "outputs": [
    {
     "data": {
      "image/png": "[encoded data removed]",
      "text/plain": [
       "<matplotlib.figure.Figure at 0x7f16e1dd37f0>"
      ]
     },
     "metadata": {
      "needs_background": "light"
     },
     "output_type": "display_data"
    }
   ],
   "source": [
    "# plot songs played by hour\n",
    "plt.scatter(songs_in_hour_pd['hour'], songs_in_hour_pd['count'])\n",
    "plt.title(\"Songs played by Hour\")\n",
    "plt.xlabel(\"Hour\")\n",
    "plt.ylabel(\"Songs played\");\n",
    "plt.grid();"
   ]
  },
  {
   "cell_type": "code",
   "execution_count": 19,
   "metadata": {},
   "outputs": [
    {
     "name": "stdout",
     "output_type": "stream",
     "text": [
      "+---+-----+\n",
      "|day|count|\n",
      "+---+-----+\n",
      "|  1| 9187|\n",
      "|  2| 9646|\n",
      "|  3| 6411|\n",
      "|  4| 5729|\n",
      "|  5| 6866|\n",
      "|  6| 6796|\n",
      "|  7| 5917|\n",
      "|  8| 7390|\n",
      "|  9| 9217|\n",
      "| 10| 7791|\n",
      "| 11| 6849|\n",
      "| 12| 7314|\n",
      "| 13| 6465|\n",
      "| 14| 5876|\n",
      "| 15| 8947|\n",
      "| 16| 9056|\n",
      "| 17| 6243|\n",
      "| 18| 6292|\n",
      "| 19| 8389|\n",
      "| 20| 8995|\n",
      "+---+-----+\n",
      "only showing top 20 rows\n",
      "\n"
     ]
    }
   ],
   "source": [
    "# songs in days\n",
    "songs_in_days = user_log.filter(user_log.page == \"NextSong\").groupby(user_log.day).count().orderBy(user_log.day.cast(\"float\"))\n",
    "songs_in_days.show()"
   ]
  },
  {
   "cell_type": "code",
   "execution_count": 20,
   "metadata": {},
   "outputs": [],
   "source": [
    "# transform to Pandas dataframe\n",
    "songs_in_days_pd = songs_in_days.toPandas()\n",
    "songs_in_days_pd.day = pd.to_numeric(songs_in_days_pd.day)"
   ]
  },
  {
   "cell_type": "code",
   "execution_count": 21,
   "metadata": {},
   "outputs": [
    {
     "data": {
      "image/png": "[encoded data removed]",
      "text/plain": [
       "<matplotlib.figure.Figure at 0x7f16e4caf4a8>"
      ]
     },
     "metadata": {
      "needs_background": "light"
     },
     "output_type": "display_data"
    }
   ],
   "source": [
    "# plot songs played by day\n",
    "plt.scatter(songs_in_days_pd['day'], songs_in_days_pd['count'])\n",
    "plt.title(\"Songs played by Day\")\n",
    "plt.xlabel(\"Day\")\n",
    "plt.ylabel(\"Songs played\");\n",
    "plt.grid();"
   ]
  },
  {
   "cell_type": "code",
   "execution_count": 22,
   "metadata": {},
   "outputs": [
    {
     "data": {
      "text/plain": [
       "286500"
      ]
     },
     "execution_count": 22,
     "metadata": {},
     "output_type": "execute_result"
    }
   ],
   "source": [
    "# drop rows with missing values\n",
    "user_log_valid = user_log.dropna(how = \"any\", subset = [\"userId\", \"sessionId\"])\n",
    "user_log_valid.count()"
   ]
  },
  {
   "cell_type": "code",
   "execution_count": 23,
   "metadata": {},
   "outputs": [
    {
     "data": {
      "text/plain": [
       "278154"
      ]
     },
     "execution_count": 23,
     "metadata": {},
     "output_type": "execute_result"
    }
   ],
   "source": [
    "user_log_valid = user_log_valid.filter(user_log_valid[\"userId\"] != \"\")\n",
    "user_log_valid.count()"
   ]
  },
  {
   "cell_type": "markdown",
   "metadata": {},
   "source": [
    "Only empty strings as `userId` were removed. There wasn't missing values in `userId` or `sessionId` columns. "
   ]
  },
  {
   "cell_type": "markdown",
   "metadata": {},
   "source": [
    "# Exploratory Data Analysis\n",
    "When you're working with the full dataset, perform EDA by loading a small subset of the data and doing basic manipulations within Spark. In this workspace, you are already provided a small subset of data you can explore.\n",
    "\n",
    "### Define Churn\n",
    "\n",
    "Once you've done some preliminary analysis, create a column `Churn` to use as the label for your model. I suggest using the `Cancellation Confirmation` events to define your churn, which happen for both paid and free users. As a bonus task, you can also look into the `Downgrade` events.\n",
    "\n",
    "### Explore Data\n",
    "Once you've defined churn, perform some exploratory data analysis to observe the behavior for users who stayed vs users who churned. You can start by exploring aggregates on these two groups of users, observing how much of a specific action they experienced per a certain time unit or number of songs played."
   ]
  },
  {
   "cell_type": "code",
   "execution_count": 24,
   "metadata": {},
   "outputs": [
    {
     "name": "stdout",
     "output_type": "stream",
     "text": [
      "+------+---------+---------+------+-------------+---------+------+-----+--------------------+------+--------------------+-------------+---------+----+------+-------------+--------------------+------+----+---+\n",
      "|artist|     auth|firstName|gender|itemInSession| lastName|length|level|            location|method|                page| registration|sessionId|song|status|           ts|           userAgent|userId|hour|day|\n",
      "+------+---------+---------+------+-------------+---------+------+-----+--------------------+------+--------------------+-------------+---------+----+------+-------------+--------------------+------+----+---+\n",
      "|  null|Cancelled|   Adriel|     M|          104|  Mendoza|  null| paid|  Kansas City, MO-KS|   GET|Cancellation Conf...|1535623466000|      514|null|   200|1538943990000|\"Mozilla/5.0 (Mac...|    18|  20|  7|\n",
      "|  null|Cancelled|    Diego|     M|           56|    Mckee|  null| paid|Phoenix-Mesa-Scot...|   GET|Cancellation Conf...|1537167593000|      540|null|   200|1539033046000|\"Mozilla/5.0 (iPh...|    32|  21|  8|\n",
      "|  null|Cancelled|    Mason|     M|           10|     Hart|  null| free|  Corpus Christi, TX|   GET|Cancellation Conf...|1533157139000|      174|null|   200|1539318918000|\"Mozilla/5.0 (Mac...|   125|   4| 12|\n",
      "|  null|Cancelled|Alexander|     M|          332|   Garcia|  null| paid|Indianapolis-Carm...|   GET|Cancellation Conf...|1536817381000|      508|null|   200|1539375441000|Mozilla/5.0 (Wind...|   105|  20| 12|\n",
      "|  null|Cancelled|    Kayla|     F|          273|  Johnson|  null| paid|Philadelphia-Camd...|   GET|Cancellation Conf...|1538333829000|      797|null|   200|1539465584000|Mozilla/5.0 (Wind...|    17|  21| 13|\n",
      "|  null|Cancelled|    Molly|     F|           29| Harrison|  null| free|Virginia Beach-No...|   GET|Cancellation Conf...|1534255113000|      843|null|   200|1539588854000|\"Mozilla/5.0 (Mac...|   143|   7| 15|\n",
      "|  null|Cancelled|     Alex|     M|          145|    Hogan|  null| paid|Denver-Aurora-Lak...|   GET|Cancellation Conf...|1535066380000|      842|null|   200|1539729037000|Mozilla/5.0 (Wind...|   101|  22| 16|\n",
      "|  null|Cancelled|    Davis|     M|           34|     Wang|  null| paid|           Flint, MI|   GET|Cancellation Conf...|1538289776000|      802|null|   200|1539736161000|\"Mozilla/5.0 (Win...|   129|   0| 17|\n",
      "|  null|Cancelled|  Nikolas|     M|          287|    Olsen|  null| paid|Oxnard-Thousand O...|   GET|Cancellation Conf...|1528403713000|      881|null|   200|1539759749000|Mozilla/5.0 (X11;...|   121|   7| 17|\n",
      "|  null|Cancelled|    Ethan|     M|          176|  Johnson|  null| paid|Lexington-Fayette...|   GET|Cancellation Conf...|1538080987000|      934|null|   200|1539761972000|\"Mozilla/5.0 (Win...|    51|   7| 17|\n",
      "|  null|Cancelled|Christian|     M|          100| Robinson|  null| paid|       Quincy, IL-MO|   GET|Cancellation Conf...|1534942082000|     1092|null|   200|1540050556000|\"Mozilla/5.0 (Win...|    87|  15| 20|\n",
      "|  null|Cancelled|    Molly|     F|           43|Patterson|  null| paid|   Memphis, TN-MS-AR|   GET|Cancellation Conf...|1535498705000|     1029|null|   200|1540062068000|Mozilla/5.0 (X11;...|   122|  19| 20|\n",
      "|  null|Cancelled|   Sophia|     F|           72|    Perry|  null| paid|Los Angeles-Long ...|   GET|Cancellation Conf...|1533885783000|     1072|null|   200|1540193374000|Mozilla/5.0 (Wind...|    12|   7| 22|\n",
      "|  null|Cancelled|    Erick|     M|           48|   Brooks|  null| paid|           Selma, AL|   GET|Cancellation Conf...|1537956751000|     1112|null|   200|1540223006000|\"Mozilla/5.0 (Win...|    58|  15| 22|\n",
      "|  null|Cancelled|   Rachel|     F|           11|   Bailey|  null| paid|Albany-Schenectad...|   GET|Cancellation Conf...|1536102943000|     1059|null|   200|1540402387000|Mozilla/5.0 (Wind...|    73|  17| 24|\n",
      "|  null|Cancelled|  Jeffery|     M|           46|  Wheeler|  null| paid|         Bozeman, MT|   GET|Cancellation Conf...|1533886191000|     1324|null|   200|1540875543000|\"Mozilla/5.0 (Win...|     3|   4| 30|\n",
      "|  null|Cancelled|   Sophia|     F|           18|      Key|  null| paid|Los Angeles-Long ...|   GET|Cancellation Conf...|1537679535000|     1383|null|   200|1541166424000|\"Mozilla/5.0 (Mac...|   106|  13|  2|\n",
      "|  null|Cancelled|    Piper|     F|            8|  Nielsen|  null| paid|New York-Newark-J...|   GET|Cancellation Conf...|1537699856000|     1583|null|   200|1541340091000|\"Mozilla/5.0 (Mac...|   103|  14|  4|\n",
      "|  null|Cancelled|   Teagan|     F|          306|  Roberts|  null| paid|New Philadelphia-...|   GET|Cancellation Conf...|1537634865000|     1519|null|   200|1541463632000|Mozilla/5.0 (Wind...|    28|   0|  6|\n",
      "|  null|Cancelled|    Alexi|     F|           42|   Warren|  null| paid|Spokane-Spokane V...|   GET|Cancellation Conf...|1532482662000|     1819|null|   200|1542051608000|Mozilla/5.0 (Wind...|    54|  19| 12|\n",
      "+------+---------+---------+------+-------------+---------+------+-----+--------------------+------+--------------------+-------------+---------+----+------+-------------+--------------------+------+----+---+\n",
      "only showing top 20 rows\n",
      "\n"
     ]
    }
   ],
   "source": [
    "# filter by `Cancellation Confirmation`\n",
    "user_log_valid.filter(\"page == 'Cancellation Confirmation'\").show()"
   ]
  },
  {
   "cell_type": "code",
   "execution_count": 25,
   "metadata": {},
   "outputs": [
    {
     "data": {
      "text/plain": [
       "52"
      ]
     },
     "execution_count": 25,
     "metadata": {},
     "output_type": "execute_result"
    }
   ],
   "source": [
    "# number of cancellations\n",
    "user_log_valid.filter(\"page == 'Cancellation Confirmation'\").select('userId').dropDuplicates().count()"
   ]
  },
  {
   "cell_type": "code",
   "execution_count": 26,
   "metadata": {},
   "outputs": [
    {
     "name": "stdout",
     "output_type": "stream",
     "text": [
      "+------+---------+---------+-----------+-----+--------------------+----+\n",
      "|userId|sessionId|firstName|       page|level|                song|hour|\n",
      "+------+---------+---------+-----------+-----+--------------------+----+\n",
      "|    17|      250|    Kayla|       Home| free|                null|   5|\n",
      "|    17|      250|    Kayla|   NextSong| free|      Pork And Beans|   5|\n",
      "|    17|      250|    Kayla|   NextSong| free|Pursuit Of Happin...|   5|\n",
      "|    17|      250|    Kayla|   NextSong| free|     God Isn't Dead?|   5|\n",
      "|    17|      250|    Kayla|   NextSong| free|        By My Spirit|   5|\n",
      "|    17|      250|    Kayla|   NextSong| free|Best Imitation Of...|   5|\n",
      "|    17|      250|    Kayla|   NextSong| free|Language Lessons ...|   5|\n",
      "|    17|      250|    Kayla|Roll Advert| free|                null|   5|\n",
      "|    17|      250|    Kayla|   NextSong| free|Tavallaan jokaine...|   5|\n",
      "|    17|      250|    Kayla|   NextSong| free|   Alive (nightmare)|   6|\n",
      "|    17|      250|    Kayla|Roll Advert| free|                null|   6|\n",
      "|    17|      250|    Kayla|   NextSong| free|Supermassive Blac...|   6|\n",
      "|    17|      250|    Kayla|    Upgrade| free|                null|   6|\n",
      "|    17|      250|    Kayla|    Upgrade| free|                null|   6|\n",
      "|    17|      250|    Kayla| Add Friend| free|                null|   6|\n",
      "|    17|      250|    Kayla|   NextSong| free|             Secrets|   6|\n",
      "|    17|      250|    Kayla|   NextSong| free| DJ Play A Love Song|   6|\n",
      "|    17|      250|    Kayla|   NextSong| free|           Mason Jar|   6|\n",
      "|    17|      250|    Kayla|Roll Advert| free|                null|   6|\n",
      "|    17|      250|    Kayla|   NextSong| free|I Was Made For Lo...|   6|\n",
      "+------+---------+---------+-----------+-----+--------------------+----+\n",
      "only showing top 20 rows\n",
      "\n"
     ]
    }
   ],
   "source": [
    "# Kayla user service activity\n",
    "Kayla_log = user_log_valid.select(['userId', 'sessionId', 'firstName', 'page', 'level', 'song', 'hour']).where(user_log.userId == '17')\n",
    "Kayla_log.show()"
   ]
  },
  {
   "cell_type": "code",
   "execution_count": 27,
   "metadata": {},
   "outputs": [],
   "source": [
    "# churn event\n",
    "flag_churn_event = udf(lambda x: 1 if x == \"Cancellation Confirmation\" else 0, IntegerType())\n",
    "user_churn = user_log_valid.withColumn(\"pre_churn\", flag_churn_event(\"page\"))\n",
    "user_churn = user_churn.withColumn('churn', Fmax('pre_churn').over(Window.partitionBy('userId')))\n",
    "user_churn = user_churn.dropDuplicates(['userId'])"
   ]
  },
  {
   "cell_type": "code",
   "execution_count": 28,
   "metadata": {},
   "outputs": [
    {
     "name": "stdout",
     "output_type": "stream",
     "text": [
      "+-----+-----+\n",
      "|churn|count|\n",
      "+-----+-----+\n",
      "|    1|   52|\n",
      "|    0|  173|\n",
      "+-----+-----+\n",
      "\n"
     ]
    }
   ],
   "source": [
    "# table of churn\n",
    "user_churn.groupBy('churn').count().show()"
   ]
  },
  {
   "cell_type": "code",
   "execution_count": 29,
   "metadata": {},
   "outputs": [],
   "source": [
    "# user_churn to Pandas\n",
    "user_churn_pd = user_churn.toPandas()"
   ]
  },
  {
   "cell_type": "code",
   "execution_count": 30,
   "metadata": {},
   "outputs": [
    {
     "data": {
      "image/png": "[encoded data removed]",
      "text/plain": [
       "<matplotlib.figure.Figure at 0x7f16e49cfcc0>"
      ]
     },
     "metadata": {
      "needs_background": "light"
     },
     "output_type": "display_data"
    }
   ],
   "source": [
    "# hist of churn\n",
    "user_churn_pd['churn'].value_counts().plot(kind=\"bar\", color=[\"lightblue\", \"salmon\"])\n",
    "plt.title(\"Histogram of Churn\")\n",
    "plt.xlabel(\"Churn\")\n",
    "plt.ylabel(\"Count\")\n",
    "plt.grid();"
   ]
  },
  {
   "cell_type": "markdown",
   "metadata": {},
   "source": [
    "There are 52 churns and 173 no-churn users."
   ]
  },
  {
   "cell_type": "code",
   "execution_count": 31,
   "metadata": {},
   "outputs": [
    {
     "name": "stdout",
     "output_type": "stream",
     "text": [
      "+------+-----+\n",
      "|gender|count|\n",
      "+------+-----+\n",
      "|     F|  104|\n",
      "|     M|  121|\n",
      "+------+-----+\n",
      "\n"
     ]
    }
   ],
   "source": [
    "# table of gender\n",
    "user_churn.groupBy('gender').count().show()"
   ]
  },
  {
   "cell_type": "code",
   "execution_count": 32,
   "metadata": {},
   "outputs": [
    {
     "data": {
      "image/png": "[encoded data removed]",
      "text/plain": [
       "<matplotlib.figure.Figure at 0x7f16e419b1d0>"
      ]
     },
     "metadata": {
      "needs_background": "light"
     },
     "output_type": "display_data"
    }
   ],
   "source": [
    "# hist of gender\n",
    "user_churn_pd['gender'].value_counts().plot(kind=\"bar\", color=[\"lightblue\", \"salmon\"])\n",
    "plt.title(\"Histogram of Gender\")\n",
    "plt.xlabel(\"Gender\")\n",
    "plt.ylabel(\"Count\")\n",
    "plt.grid();"
   ]
  },
  {
   "cell_type": "markdown",
   "metadata": {},
   "source": [
    "There are 104 female and 121 male."
   ]
  },
  {
   "cell_type": "code",
   "execution_count": 33,
   "metadata": {},
   "outputs": [
    {
     "data": {
      "text/plain": [
       "free    177\n",
       "paid     48\n",
       "Name: level, dtype: int64"
      ]
     },
     "execution_count": 33,
     "metadata": {},
     "output_type": "execute_result"
    }
   ],
   "source": [
    "# table of level\n",
    "user_churn_pd['level'].value_counts()"
   ]
  },
  {
   "cell_type": "code",
   "execution_count": 34,
   "metadata": {},
   "outputs": [
    {
     "data": {
      "image/png": "[encoded data removed]",
      "text/plain": [
       "<matplotlib.figure.Figure at 0x7f16e3f792b0>"
      ]
     },
     "metadata": {
      "needs_background": "light"
     },
     "output_type": "display_data"
    }
   ],
   "source": [
    "# plot of level\n",
    "user_churn_pd['level'].value_counts().plot(kind=\"bar\", color=[\"lightblue\", \"salmon\"])\n",
    "plt.title(\"Histogram of Level\")\n",
    "plt.xlabel(\"Level\")\n",
    "plt.ylabel(\"Count\")\n",
    "plt.grid();"
   ]
  },
  {
   "cell_type": "markdown",
   "metadata": {},
   "source": [
    "There are 177 free and 48 paid."
   ]
  },
  {
   "cell_type": "code",
   "execution_count": 35,
   "metadata": {},
   "outputs": [
    {
     "data": {
      "text/html": [
       "<div>\n",
       "<style scoped>\n",
       "    .dataframe tbody tr th:only-of-type {\n",
       "        vertical-align: middle;\n",
       "    }\n",
       "\n",
       "    .dataframe tbody tr th {\n",
       "        vertical-align: top;\n",
       "    }\n",
       "\n",
       "    .dataframe thead th {\n",
       "        text-align: right;\n",
       "    }\n",
       "</style>\n",
       "<table border=\"1\" class=\"dataframe\">\n",
       "  <thead>\n",
       "    <tr style=\"text-align: right;\">\n",
       "      <th>gender</th>\n",
       "      <th>F</th>\n",
       "      <th>M</th>\n",
       "    </tr>\n",
       "    <tr>\n",
       "      <th>level</th>\n",
       "      <th></th>\n",
       "      <th></th>\n",
       "    </tr>\n",
       "  </thead>\n",
       "  <tbody>\n",
       "    <tr>\n",
       "      <th>free</th>\n",
       "      <td>77</td>\n",
       "      <td>100</td>\n",
       "    </tr>\n",
       "    <tr>\n",
       "      <th>paid</th>\n",
       "      <td>27</td>\n",
       "      <td>21</td>\n",
       "    </tr>\n",
       "  </tbody>\n",
       "</table>\n",
       "</div>"
      ],
      "text/plain": [
       "gender   F    M\n",
       "level          \n",
       "free    77  100\n",
       "paid    27   21"
      ]
     },
     "execution_count": 35,
     "metadata": {},
     "output_type": "execute_result"
    }
   ],
   "source": [
    "# table of level vs gender\n",
    "pd.crosstab(user_churn_pd.level, user_churn_pd.gender)"
   ]
  },
  {
   "cell_type": "code",
   "execution_count": 36,
   "metadata": {},
   "outputs": [
    {
     "data": {
      "image/png": "[encoded data removed]",
      "text/plain": [
       "<matplotlib.figure.Figure at 0x7f16e360bdd8>"
      ]
     },
     "metadata": {
      "needs_background": "light"
     },
     "output_type": "display_data"
    }
   ],
   "source": [
    "# plot the hist of level vs gender\n",
    "pd.crosstab(user_churn_pd.level, user_churn_pd.gender).plot(kind=\"bar\",\n",
    "                                    color=[\"salmon\", \"lightblue\"])\n",
    "plt.title(\"Histogram of the Level vs Gender\")\n",
    "plt.xlabel(\"Level\")\n",
    "plt.ylabel(\"Count\")\n",
    "plt.grid();\n"
   ]
  },
  {
   "cell_type": "code",
   "execution_count": 37,
   "metadata": {},
   "outputs": [
    {
     "data": {
      "text/html": [
       "<div>\n",
       "<style scoped>\n",
       "    .dataframe tbody tr th:only-of-type {\n",
       "        vertical-align: middle;\n",
       "    }\n",
       "\n",
       "    .dataframe tbody tr th {\n",
       "        vertical-align: top;\n",
       "    }\n",
       "\n",
       "    .dataframe thead th {\n",
       "        text-align: right;\n",
       "    }\n",
       "</style>\n",
       "<table border=\"1\" class=\"dataframe\">\n",
       "  <thead>\n",
       "    <tr style=\"text-align: right;\">\n",
       "      <th>gender</th>\n",
       "      <th>F</th>\n",
       "      <th>M</th>\n",
       "    </tr>\n",
       "    <tr>\n",
       "      <th>churn</th>\n",
       "      <th></th>\n",
       "      <th></th>\n",
       "    </tr>\n",
       "  </thead>\n",
       "  <tbody>\n",
       "    <tr>\n",
       "      <th>0</th>\n",
       "      <td>84</td>\n",
       "      <td>89</td>\n",
       "    </tr>\n",
       "    <tr>\n",
       "      <th>1</th>\n",
       "      <td>20</td>\n",
       "      <td>32</td>\n",
       "    </tr>\n",
       "  </tbody>\n",
       "</table>\n",
       "</div>"
      ],
      "text/plain": [
       "gender   F   M\n",
       "churn         \n",
       "0       84  89\n",
       "1       20  32"
      ]
     },
     "execution_count": 37,
     "metadata": {},
     "output_type": "execute_result"
    }
   ],
   "source": [
    "# table of churn vs gender\n",
    "pd.crosstab(user_churn_pd.churn, user_churn_pd.gender)"
   ]
  },
  {
   "cell_type": "code",
   "execution_count": 38,
   "metadata": {},
   "outputs": [
    {
     "data": {
      "image/png": "[encoded data removed]",
      "text/plain": [
       "<matplotlib.figure.Figure at 0x7f16e3622860>"
      ]
     },
     "metadata": {
      "needs_background": "light"
     },
     "output_type": "display_data"
    }
   ],
   "source": [
    "# hist of churn vs gender\n",
    "pd.crosstab(user_churn_pd.churn, user_churn_pd.gender).plot(kind=\"bar\",\n",
    "                                    color=[\"salmon\", \"lightblue\"])\n",
    "plt.title(\"Histogram of the Churn vs Gender\")\n",
    "plt.xlabel(\"Churn\")\n",
    "plt.ylabel(\"Count\")\n",
    "plt.grid();"
   ]
  },
  {
   "cell_type": "code",
   "execution_count": 39,
   "metadata": {},
   "outputs": [
    {
     "data": {
      "text/html": [
       "<div>\n",
       "<style scoped>\n",
       "    .dataframe tbody tr th:only-of-type {\n",
       "        vertical-align: middle;\n",
       "    }\n",
       "\n",
       "    .dataframe tbody tr th {\n",
       "        vertical-align: top;\n",
       "    }\n",
       "\n",
       "    .dataframe thead th {\n",
       "        text-align: right;\n",
       "    }\n",
       "</style>\n",
       "<table border=\"1\" class=\"dataframe\">\n",
       "  <thead>\n",
       "    <tr style=\"text-align: right;\">\n",
       "      <th>level</th>\n",
       "      <th>free</th>\n",
       "      <th>paid</th>\n",
       "    </tr>\n",
       "    <tr>\n",
       "      <th>churn</th>\n",
       "      <th></th>\n",
       "      <th></th>\n",
       "    </tr>\n",
       "  </thead>\n",
       "  <tbody>\n",
       "    <tr>\n",
       "      <th>0</th>\n",
       "      <td>133</td>\n",
       "      <td>40</td>\n",
       "    </tr>\n",
       "    <tr>\n",
       "      <th>1</th>\n",
       "      <td>44</td>\n",
       "      <td>8</td>\n",
       "    </tr>\n",
       "  </tbody>\n",
       "</table>\n",
       "</div>"
      ],
      "text/plain": [
       "level  free  paid\n",
       "churn            \n",
       "0       133    40\n",
       "1        44     8"
      ]
     },
     "execution_count": 39,
     "metadata": {},
     "output_type": "execute_result"
    }
   ],
   "source": [
    "# table of churn vs level\n",
    "pd.crosstab(user_churn_pd.churn, user_churn_pd.level)"
   ]
  },
  {
   "cell_type": "code",
   "execution_count": 40,
   "metadata": {},
   "outputs": [
    {
     "data": {
      "image/png": "[encoded data removed]",
      "text/plain": [
       "<matplotlib.figure.Figure at 0x7f16e360b9b0>"
      ]
     },
     "metadata": {
      "needs_background": "light"
     },
     "output_type": "display_data"
    }
   ],
   "source": [
    "# hist of churn vs gender\n",
    "pd.crosstab(user_churn_pd.churn, user_churn_pd.level).plot(kind=\"bar\",\n",
    "                                    color=[\"salmon\", \"lightblue\"])\n",
    "plt.title(\"Histogram of the Churn vs Level\")\n",
    "plt.xlabel(\"Churn\")\n",
    "plt.ylabel(\"Count\")\n",
    "plt.grid();"
   ]
  },
  {
   "cell_type": "code",
   "execution_count": 41,
   "metadata": {},
   "outputs": [
    {
     "data": {
      "text/plain": [
       "Los Angeles-Long Beach-Anaheim, CA             16\n",
       "New York-Newark-Jersey City, NY-NJ-PA          15\n",
       "Dallas-Fort Worth-Arlington, TX                 7\n",
       "Phoenix-Mesa-Scottsdale, AZ                     7\n",
       "Charlotte-Concord-Gastonia, NC-SC               6\n",
       "St. Louis, MO-IL                                6\n",
       "Chicago-Naperville-Elgin, IL-IN-WI              6\n",
       "Boston-Cambridge-Newton, MA-NH                  5\n",
       "Miami-Fort Lauderdale-West Palm Beach, FL       5\n",
       "Philadelphia-Camden-Wilmington, PA-NJ-DE-MD     5\n",
       "Name: location, dtype: int64"
      ]
     },
     "execution_count": 41,
     "metadata": {},
     "output_type": "execute_result"
    }
   ],
   "source": [
    "# table of location - topten\n",
    "user_churn_pd['location'].value_counts().head(10)"
   ]
  },
  {
   "cell_type": "code",
   "execution_count": 42,
   "metadata": {},
   "outputs": [
    {
     "data": {
      "image/png": "[encoded data removed]",
      "text/plain": [
       "<matplotlib.figure.Figure at 0x7f16e238e128>"
      ]
     },
     "metadata": {
      "needs_background": "light"
     },
     "output_type": "display_data"
    }
   ],
   "source": [
    "# hist of location\n",
    "user_churn_pd['location'].value_counts().head(10).plot(kind=\"bar\")\n",
    "plt.title(\"Histogram of TopTen Locations\")\n",
    "plt.xlabel(\"Location\")\n",
    "plt.ylabel(\"Count\")\n",
    "plt.grid();"
   ]
  },
  {
   "cell_type": "markdown",
   "metadata": {},
   "source": [
    "Los Angeles, New York and Phoenix are in the top three cities. "
   ]
  },
  {
   "cell_type": "code",
   "execution_count": 43,
   "metadata": {},
   "outputs": [
    {
     "name": "stdout",
     "output_type": "stream",
     "text": [
      "+------+-------+\n",
      "|userId|churned|\n",
      "+------+-------+\n",
      "|     2|      0|\n",
      "|     3|      1|\n",
      "|     4|      0|\n",
      "|     5|      0|\n",
      "|     6|      0|\n",
      "|     7|      0|\n",
      "|     8|      0|\n",
      "|     9|      0|\n",
      "|    10|      0|\n",
      "|    11|      0|\n",
      "|    12|      1|\n",
      "|    13|      0|\n",
      "|    14|      0|\n",
      "|    15|      0|\n",
      "|    16|      0|\n",
      "|    17|      1|\n",
      "|    18|      1|\n",
      "|    19|      0|\n",
      "|    20|      0|\n",
      "|    21|      0|\n",
      "+------+-------+\n",
      "only showing top 20 rows\n",
      "\n"
     ]
    }
   ],
   "source": [
    "# create temp table\n",
    "user_log_valid.createOrReplaceTempView(\"log_table\")\n",
    "\n",
    "# create churn column\n",
    "churn_df = spark.sql(\n",
    "'''\n",
    "    SELECT users.userId, \n",
    "    CASE WHEN CAST(churned.userId AS INT) IS NULL THEN 0\n",
    "    ELSE 1 END AS churned\n",
    "    FROM (\n",
    "        SELECT DISTINCT CAST(userId AS INT)\n",
    "        FROM log_table\n",
    "        ORDER BY userId\n",
    "    ) AS users\n",
    "    FULL OUTER JOIN (\n",
    "        SELECT CAST(log_table.userId AS INT)\n",
    "        FROM log_table\n",
    "        WHERE page = 'Cancellation Confirmation'\n",
    "        ORDER BY userId\n",
    "    ) AS churned\n",
    "    ON users.userId = churned.userId\n",
    "    ORDER BY userId\n",
    "'''\n",
    ")\n",
    "\n",
    "churn_df.show()"
   ]
  },
  {
   "cell_type": "code",
   "execution_count": 44,
   "metadata": {},
   "outputs": [
    {
     "name": "stdout",
     "output_type": "stream",
     "text": [
      "+-------+-----+\n",
      "|churned|count|\n",
      "+-------+-----+\n",
      "|      1|   52|\n",
      "|      0|  173|\n",
      "+-------+-----+\n",
      "\n"
     ]
    }
   ],
   "source": [
    "# how many churn (1) / not-churn(0) are there\n",
    "churn_df.groupBy('churned').count().show()"
   ]
  },
  {
   "cell_type": "code",
   "execution_count": 45,
   "metadata": {},
   "outputs": [
    {
     "data": {
      "text/plain": [
       "225"
      ]
     },
     "execution_count": 45,
     "metadata": {},
     "output_type": "execute_result"
    }
   ],
   "source": [
    "# churn_df size\n",
    "churn_df.count()"
   ]
  },
  {
   "cell_type": "markdown",
   "metadata": {},
   "source": [
    "# Feature Engineering\n",
    "Once you've familiarized yourself with the data, build out the features you find promising to train your model on. To work with the full dataset, you can follow the following steps.\n",
    "- Write a script to extract the necessary features from the smaller subset of data\n",
    "- Ensure that your script is scalable, using the best practices discussed in Lesson 3\n",
    "- Try your script on the full data set, debugging your script if necessary\n",
    "\n",
    "If you are working in the classroom workspace, you can just extract features based on the small subset of data contained here. Be sure to transfer over this work to the larger dataset when you work on your Spark cluster."
   ]
  },
  {
   "cell_type": "code",
   "execution_count": 46,
   "metadata": {},
   "outputs": [
    {
     "name": "stdout",
     "output_type": "stream",
     "text": [
      "+--------------------+\n",
      "|                page|\n",
      "+--------------------+\n",
      "|               About|\n",
      "|          Add Friend|\n",
      "|     Add to Playlist|\n",
      "|              Cancel|\n",
      "|Cancellation Conf...|\n",
      "|           Downgrade|\n",
      "|               Error|\n",
      "|                Help|\n",
      "|                Home|\n",
      "|              Logout|\n",
      "|            NextSong|\n",
      "|         Roll Advert|\n",
      "|       Save Settings|\n",
      "|            Settings|\n",
      "|    Submit Downgrade|\n",
      "|      Submit Upgrade|\n",
      "|         Thumbs Down|\n",
      "|           Thumbs Up|\n",
      "|             Upgrade|\n",
      "+--------------------+\n",
      "\n"
     ]
    }
   ],
   "source": [
    "# pages available\n",
    "\n",
    "spark.sql('''\n",
    "          SELECT DISTINCT page\n",
    "          FROM log_table \n",
    "          ORDER BY page ASC\n",
    "          '''\n",
    "          ).show()"
   ]
  },
  {
   "cell_type": "markdown",
   "metadata": {},
   "source": [
    "### Feature 1:"
   ]
  },
  {
   "cell_type": "code",
   "execution_count": 47,
   "metadata": {},
   "outputs": [
    {
     "name": "stdout",
     "output_type": "stream",
     "text": [
      "+------+------+\n",
      "|userId|gender|\n",
      "+------+------+\n",
      "|    10|     0|\n",
      "|   100|     0|\n",
      "|100001|     1|\n",
      "|100002|     1|\n",
      "|100003|     1|\n",
      "|100004|     1|\n",
      "|100005|     0|\n",
      "|100006|     1|\n",
      "|100007|     1|\n",
      "|100008|     1|\n",
      "+------+------+\n",
      "only showing top 10 rows\n",
      "\n"
     ]
    }
   ],
   "source": [
    "# table to create a boolean feature related to gender\n",
    "gender = spark.sql(\n",
    "    '''\n",
    "    SELECT CAST(userId AS INT),\n",
    "    CASE WHEN gender = 'M' THEN 0 ELSE 1 END AS gender\n",
    "    FROM log_table\n",
    "    GROUP BY userId, gender\n",
    "    ORDER BY userId, gender\n",
    "    '''\n",
    ")\n",
    "\n",
    "gender.show(10)"
   ]
  },
  {
   "cell_type": "code",
   "execution_count": 48,
   "metadata": {},
   "outputs": [
    {
     "name": "stdout",
     "output_type": "stream",
     "text": [
      "+------+-------+------+\n",
      "|userId|churned|gender|\n",
      "+------+-------+------+\n",
      "|     2|      0|     1|\n",
      "|     3|      1|     0|\n",
      "|     4|      0|     0|\n",
      "|     5|      0|     0|\n",
      "|     6|      0|     0|\n",
      "|     7|      0|     0|\n",
      "|     8|      0|     1|\n",
      "|     9|      0|     0|\n",
      "|    10|      0|     0|\n",
      "|    11|      0|     1|\n",
      "|    12|      1|     1|\n",
      "|    13|      0|     1|\n",
      "|    14|      0|     0|\n",
      "|    15|      0|     0|\n",
      "|    16|      0|     1|\n",
      "|    17|      1|     1|\n",
      "|    18|      1|     0|\n",
      "|    19|      0|     1|\n",
      "|    20|      0|     1|\n",
      "|    21|      0|     0|\n",
      "+------+-------+------+\n",
      "only showing top 20 rows\n",
      "\n"
     ]
    }
   ],
   "source": [
    "# join gender with churn_df\n",
    "churn_df = churn_df.join(gender, on='userId', how='left').fillna(0.0)\n",
    "churn_df.show()"
   ]
  },
  {
   "cell_type": "markdown",
   "metadata": {},
   "source": [
    "### Feature 2:"
   ]
  },
  {
   "cell_type": "code",
   "execution_count": 49,
   "metadata": {},
   "outputs": [
    {
     "name": "stdout",
     "output_type": "stream",
     "text": [
      "+------+-------------+\n",
      "|userId|total_friends|\n",
      "+------+-------------+\n",
      "|     2|           20|\n",
      "|     3|            1|\n",
      "|     4|           46|\n",
      "|     5|            3|\n",
      "|     6|           41|\n",
      "|     7|            1|\n",
      "|     8|            5|\n",
      "|     9|           40|\n",
      "|    10|           12|\n",
      "|    11|            6|\n",
      "+------+-------------+\n",
      "only showing top 10 rows\n",
      "\n"
     ]
    }
   ],
   "source": [
    "# table to count the number of total add friends per userId\n",
    "total_friends = spark.sql(\n",
    "    '''\n",
    "    WITH h AS (\n",
    "        SELECT CAST(userId AS INT)\n",
    "        FROM log_table\n",
    "        WHERE page = 'Add Friend'\n",
    "        ORDER BY userId\n",
    "    )\n",
    "    SELECT \n",
    "        h.userId,\n",
    "        COUNT(*) AS total_friends\n",
    "    FROM h\n",
    "    GROUP BY userId\n",
    "    ORDER BY userId\n",
    "    '''\n",
    ")\n",
    "\n",
    "total_friends.show(10)"
   ]
  },
  {
   "cell_type": "code",
   "execution_count": 50,
   "metadata": {},
   "outputs": [
    {
     "name": "stdout",
     "output_type": "stream",
     "text": [
      "+------+-------+------+-------------+\n",
      "|userId|churned|gender|total_friends|\n",
      "+------+-------+------+-------------+\n",
      "|     2|      0|     1|           20|\n",
      "|     3|      1|     0|            1|\n",
      "|     4|      0|     0|           46|\n",
      "|     5|      0|     0|            3|\n",
      "|     6|      0|     0|           41|\n",
      "|     7|      0|     0|            1|\n",
      "|     8|      0|     1|            5|\n",
      "|     9|      0|     0|           40|\n",
      "|    10|      0|     0|           12|\n",
      "|    11|      0|     1|            6|\n",
      "|    12|      1|     1|           13|\n",
      "|    13|      0|     1|           32|\n",
      "|    14|      0|     0|           19|\n",
      "|    15|      0|     0|           31|\n",
      "|    16|      0|     1|           10|\n",
      "|    17|      1|     1|           12|\n",
      "|    18|      1|     0|           10|\n",
      "|    19|      0|     1|            4|\n",
      "|    20|      0|     1|           25|\n",
      "|    21|      0|     0|            8|\n",
      "+------+-------+------+-------------+\n",
      "only showing top 20 rows\n",
      "\n"
     ]
    }
   ],
   "source": [
    "# join total_friends with churn_df\n",
    "churn_df = churn_df.join(total_friends, on='userId', how='left').fillna(0.0)\n",
    "churn_df.show()"
   ]
  },
  {
   "cell_type": "markdown",
   "metadata": {},
   "source": [
    "### Feature 3:"
   ]
  },
  {
   "cell_type": "code",
   "execution_count": 51,
   "metadata": {},
   "outputs": [
    {
     "name": "stdout",
     "output_type": "stream",
     "text": [
      "+------+-----------+\n",
      "|userId|total_hours|\n",
      "+------+-----------+\n",
      "|     2|        899|\n",
      "|     3|        254|\n",
      "|     4|       2442|\n",
      "|     5|        218|\n",
      "|     6|       3761|\n",
      "|     7|        201|\n",
      "|     8|        334|\n",
      "|     9|       3191|\n",
      "|    10|        795|\n",
      "|    11|        848|\n",
      "|    12|       1064|\n",
      "|    13|       1654|\n",
      "|    14|       1432|\n",
      "|    15|       2278|\n",
      "|    16|        819|\n",
      "|    17|       1102|\n",
      "|    18|        513|\n",
      "|    19|        259|\n",
      "|    20|       2195|\n",
      "|    21|        589|\n",
      "+------+-----------+\n",
      "only showing top 20 rows\n",
      "\n"
     ]
    }
   ],
   "source": [
    "# table to count the number of total hours per userId\n",
    "hours_user = spark.sql(\n",
    "'''\n",
    "    WITH h AS (\n",
    "        SELECT\n",
    "            CAST(userId AS INT),\n",
    "            CAST(hour AS INT) AS hour\n",
    "        FROM log_table\n",
    "        ORDER BY userId, hour\n",
    "    )\n",
    "    SELECT \n",
    "        h.userId,\n",
    "        COUNT(h.hour) AS total_hours\n",
    "    FROM h\n",
    "    GROUP BY userId\n",
    "    ORDER BY userId\n",
    "'''\n",
    ")\n",
    "\n",
    "hours_user.show()"
   ]
  },
  {
   "cell_type": "code",
   "execution_count": 52,
   "metadata": {},
   "outputs": [
    {
     "name": "stdout",
     "output_type": "stream",
     "text": [
      "+------+-------+------+-------------+-----------+\n",
      "|userId|churned|gender|total_friends|total_hours|\n",
      "+------+-------+------+-------------+-----------+\n",
      "|     2|      0|     1|           20|        899|\n",
      "|     3|      1|     0|            1|        254|\n",
      "|     4|      0|     0|           46|       2442|\n",
      "|     5|      0|     0|            3|        218|\n",
      "|     6|      0|     0|           41|       3761|\n",
      "|     7|      0|     0|            1|        201|\n",
      "|     8|      0|     1|            5|        334|\n",
      "|     9|      0|     0|           40|       3191|\n",
      "|    10|      0|     0|           12|        795|\n",
      "|    11|      0|     1|            6|        848|\n",
      "|    12|      1|     1|           13|       1064|\n",
      "|    13|      0|     1|           32|       1654|\n",
      "|    14|      0|     0|           19|       1432|\n",
      "|    15|      0|     0|           31|       2278|\n",
      "|    16|      0|     1|           10|        819|\n",
      "|    17|      1|     1|           12|       1102|\n",
      "|    18|      1|     0|           10|        513|\n",
      "|    19|      0|     1|            4|        259|\n",
      "|    20|      0|     1|           25|       2195|\n",
      "|    21|      0|     0|            8|        589|\n",
      "+------+-------+------+-------------+-----------+\n",
      "only showing top 20 rows\n",
      "\n"
     ]
    }
   ],
   "source": [
    "# join hours_user with churn_df\n",
    "churn_df = churn_df.join(hours_user, on='userId', how='left').fillna(0.0)\n",
    "churn_df.show()"
   ]
  },
  {
   "cell_type": "markdown",
   "metadata": {},
   "source": [
    "### Feature 4:"
   ]
  },
  {
   "cell_type": "code",
   "execution_count": 53,
   "metadata": {},
   "outputs": [
    {
     "name": "stdout",
     "output_type": "stream",
     "text": [
      "+------+----------+\n",
      "|userId|total_days|\n",
      "+------+----------+\n",
      "|     2|       782|\n",
      "|     3|       230|\n",
      "|     4|      2133|\n",
      "|     5|       171|\n",
      "|     6|      3335|\n",
      "|     7|       170|\n",
      "|     8|       259|\n",
      "|     9|      2760|\n",
      "|    10|       699|\n",
      "|    11|       667|\n",
      "|    12|       955|\n",
      "|    13|      1364|\n",
      "|    14|      1244|\n",
      "|    15|      1995|\n",
      "|    16|       715|\n",
      "|    17|       999|\n",
      "|    18|       446|\n",
      "|    19|       228|\n",
      "|    20|      1900|\n",
      "|    21|       519|\n",
      "+------+----------+\n",
      "only showing top 20 rows\n",
      "\n"
     ]
    }
   ],
   "source": [
    "# table to count the number of total days per userId\n",
    "days_user = spark.sql(\n",
    "'''\n",
    "    WITH d AS (\n",
    "        SELECT DISTINCT\n",
    "            CAST(userId AS INT),\n",
    "            DATE(TIMESTAMP(ts)) AS date\n",
    "        FROM log_table\n",
    "        ORDER BY userId, date\n",
    "    )\n",
    "    SELECT \n",
    "        d.userId,\n",
    "        COUNT(d.date) AS total_days\n",
    "    FROM d\n",
    "    GROUP BY userId\n",
    "    ORDER BY userId\n",
    "'''\n",
    ")\n",
    "\n",
    "days_user.show()"
   ]
  },
  {
   "cell_type": "code",
   "execution_count": 54,
   "metadata": {},
   "outputs": [
    {
     "name": "stdout",
     "output_type": "stream",
     "text": [
      "+------+-------+------+-------------+-----------+----------+\n",
      "|userId|churned|gender|total_friends|total_hours|total_days|\n",
      "+------+-------+------+-------------+-----------+----------+\n",
      "|     2|      0|     1|           20|        899|       782|\n",
      "|     3|      1|     0|            1|        254|       230|\n",
      "|     4|      0|     0|           46|       2442|      2133|\n",
      "|     5|      0|     0|            3|        218|       171|\n",
      "|     6|      0|     0|           41|       3761|      3335|\n",
      "|     7|      0|     0|            1|        201|       170|\n",
      "|     8|      0|     1|            5|        334|       259|\n",
      "|     9|      0|     0|           40|       3191|      2760|\n",
      "|    10|      0|     0|           12|        795|       699|\n",
      "|    11|      0|     1|            6|        848|       667|\n",
      "|    12|      1|     1|           13|       1064|       955|\n",
      "|    13|      0|     1|           32|       1654|      1364|\n",
      "|    14|      0|     0|           19|       1432|      1244|\n",
      "|    15|      0|     0|           31|       2278|      1995|\n",
      "|    16|      0|     1|           10|        819|       715|\n",
      "|    17|      1|     1|           12|       1102|       999|\n",
      "|    18|      1|     0|           10|        513|       446|\n",
      "|    19|      0|     1|            4|        259|       228|\n",
      "|    20|      0|     1|           25|       2195|      1900|\n",
      "|    21|      0|     0|            8|        589|       519|\n",
      "+------+-------+------+-------------+-----------+----------+\n",
      "only showing top 20 rows\n",
      "\n"
     ]
    }
   ],
   "source": [
    "# join days_user with churn_df\n",
    "churn_df = churn_df.join(days_user, on='userId', how='left').fillna(0.0)\n",
    "churn_df.show()"
   ]
  },
  {
   "cell_type": "markdown",
   "metadata": {},
   "source": [
    "### Feature 5:"
   ]
  },
  {
   "cell_type": "code",
   "execution_count": 55,
   "metadata": {},
   "outputs": [
    {
     "name": "stdout",
     "output_type": "stream",
     "text": [
      "+------+-----------+\n",
      "|userId|total_songs|\n",
      "+------+-----------+\n",
      "|     2|        755|\n",
      "|     3|        214|\n",
      "|     4|       2048|\n",
      "|     5|        161|\n",
      "|     6|       3159|\n",
      "|     7|        150|\n",
      "|     8|        251|\n",
      "|     9|       2676|\n",
      "|    10|        673|\n",
      "|    11|        647|\n",
      "|    12|        867|\n",
      "|    13|       1280|\n",
      "|    14|       1230|\n",
      "|    15|       1914|\n",
      "|    16|        675|\n",
      "|    17|        927|\n",
      "|    18|        429|\n",
      "|    19|        216|\n",
      "|    20|       1807|\n",
      "|    21|        499|\n",
      "+------+-----------+\n",
      "only showing top 20 rows\n",
      "\n"
     ]
    }
   ],
   "source": [
    "# table to count the number of total songs per userId\n",
    "songs_user = spark.sql(\n",
    "    '''\n",
    "    WITH s AS (\n",
    "        SELECT CAST(userId AS INT)\n",
    "        FROM log_table\n",
    "        WHERE page = 'NextSong'\n",
    "        ORDER BY userId\n",
    "    )\n",
    "    SELECT \n",
    "        s.userId,\n",
    "        COUNT(*) AS total_songs\n",
    "    FROM s\n",
    "    GROUP BY userId\n",
    "    ORDER BY userId\n",
    "    '''\n",
    ")\n",
    "\n",
    "songs_user.show()"
   ]
  },
  {
   "cell_type": "code",
   "execution_count": 56,
   "metadata": {},
   "outputs": [
    {
     "name": "stdout",
     "output_type": "stream",
     "text": [
      "+------+-------+------+-------------+-----------+----------+-----------+\n",
      "|userId|churned|gender|total_friends|total_hours|total_days|total_songs|\n",
      "+------+-------+------+-------------+-----------+----------+-----------+\n",
      "|     2|      0|     1|           20|        899|       782|        755|\n",
      "|     3|      1|     0|            1|        254|       230|        214|\n",
      "|     4|      0|     0|           46|       2442|      2133|       2048|\n",
      "|     5|      0|     0|            3|        218|       171|        161|\n",
      "|     6|      0|     0|           41|       3761|      3335|       3159|\n",
      "|     7|      0|     0|            1|        201|       170|        150|\n",
      "|     8|      0|     1|            5|        334|       259|        251|\n",
      "|     9|      0|     0|           40|       3191|      2760|       2676|\n",
      "|    10|      0|     0|           12|        795|       699|        673|\n",
      "|    11|      0|     1|            6|        848|       667|        647|\n",
      "|    12|      1|     1|           13|       1064|       955|        867|\n",
      "|    13|      0|     1|           32|       1654|      1364|       1280|\n",
      "|    14|      0|     0|           19|       1432|      1244|       1230|\n",
      "|    15|      0|     0|           31|       2278|      1995|       1914|\n",
      "|    16|      0|     1|           10|        819|       715|        675|\n",
      "|    17|      1|     1|           12|       1102|       999|        927|\n",
      "|    18|      1|     0|           10|        513|       446|        429|\n",
      "|    19|      0|     1|            4|        259|       228|        216|\n",
      "|    20|      0|     1|           25|       2195|      1900|       1807|\n",
      "|    21|      0|     0|            8|        589|       519|        499|\n",
      "+------+-------+------+-------------+-----------+----------+-----------+\n",
      "only showing top 20 rows\n",
      "\n"
     ]
    }
   ],
   "source": [
    "# join songs_user with churn_df\n",
    "churn_df = churn_df.join(songs_user, on='userId', how='left').fillna(0.0)\n",
    "churn_df.show()"
   ]
  },
  {
   "cell_type": "markdown",
   "metadata": {},
   "source": [
    "### Feature 6:"
   ]
  },
  {
   "cell_type": "code",
   "execution_count": 57,
   "metadata": {},
   "outputs": [
    {
     "name": "stdout",
     "output_type": "stream",
     "text": [
      "+------+--------------+\n",
      "|userId|interact_ratio|\n",
      "+------+--------------+\n",
      "|     2|          1.15|\n",
      "|     3|           1.1|\n",
      "|     4|          1.14|\n",
      "|     5|          1.27|\n",
      "|     6|          1.13|\n",
      "|     7|          1.18|\n",
      "|     8|          1.29|\n",
      "|     9|          1.16|\n",
      "|    10|          1.14|\n",
      "|    11|          1.27|\n",
      "|    12|          1.11|\n",
      "|    13|          1.21|\n",
      "|    14|          1.15|\n",
      "|    15|          1.14|\n",
      "|    16|          1.15|\n",
      "|    17|           1.1|\n",
      "|    18|          1.15|\n",
      "|    19|          1.14|\n",
      "|    20|          1.16|\n",
      "|    21|          1.13|\n",
      "+------+--------------+\n",
      "only showing top 20 rows\n",
      "\n"
     ]
    }
   ],
   "source": [
    "# table to count the ratio of interactions per hour per day\n",
    "interact_ratio_avg = spark.sql(\n",
    "    '''\n",
    "    WITH i AS (\n",
    "        SELECT\n",
    "            CAST(userId AS INT),\n",
    "            DATE_TRUNC('HOUR', DATE(TIMESTAMP(ts))) AS hour,\n",
    "            COUNT(*) AS num_interact\n",
    "        FROM log_table\n",
    "        GROUP BY userId, 2\n",
    "        ORDER BY userId, 2\n",
    "    )\n",
    "    SELECT \n",
    "        i.userId,\n",
    "        ROUND(AVG(i.num_interact), 2) AS interact_ratio\n",
    "    FROM i\n",
    "    GROUP BY userId\n",
    "    ORDER BY userId\n",
    "    '''\n",
    ")\n",
    "\n",
    "interact_ratio_avg.show()"
   ]
  },
  {
   "cell_type": "code",
   "execution_count": 58,
   "metadata": {},
   "outputs": [
    {
     "name": "stdout",
     "output_type": "stream",
     "text": [
      "+------+-------+------+-------------+-----------+----------+-----------+--------------+\n",
      "|userId|churned|gender|total_friends|total_hours|total_days|total_songs|interact_ratio|\n",
      "+------+-------+------+-------------+-----------+----------+-----------+--------------+\n",
      "|     2|      0|     1|           20|        899|       782|        755|          1.15|\n",
      "|     3|      1|     0|            1|        254|       230|        214|           1.1|\n",
      "|     4|      0|     0|           46|       2442|      2133|       2048|          1.14|\n",
      "|     5|      0|     0|            3|        218|       171|        161|          1.27|\n",
      "|     6|      0|     0|           41|       3761|      3335|       3159|          1.13|\n",
      "|     7|      0|     0|            1|        201|       170|        150|          1.18|\n",
      "|     8|      0|     1|            5|        334|       259|        251|          1.29|\n",
      "|     9|      0|     0|           40|       3191|      2760|       2676|          1.16|\n",
      "|    10|      0|     0|           12|        795|       699|        673|          1.14|\n",
      "|    11|      0|     1|            6|        848|       667|        647|          1.27|\n",
      "|    12|      1|     1|           13|       1064|       955|        867|          1.11|\n",
      "|    13|      0|     1|           32|       1654|      1364|       1280|          1.21|\n",
      "|    14|      0|     0|           19|       1432|      1244|       1230|          1.15|\n",
      "|    15|      0|     0|           31|       2278|      1995|       1914|          1.14|\n",
      "|    16|      0|     1|           10|        819|       715|        675|          1.15|\n",
      "|    17|      1|     1|           12|       1102|       999|        927|           1.1|\n",
      "|    18|      1|     0|           10|        513|       446|        429|          1.15|\n",
      "|    19|      0|     1|            4|        259|       228|        216|          1.14|\n",
      "|    20|      0|     1|           25|       2195|      1900|       1807|          1.16|\n",
      "|    21|      0|     0|            8|        589|       519|        499|          1.13|\n",
      "+------+-------+------+-------------+-----------+----------+-----------+--------------+\n",
      "only showing top 20 rows\n",
      "\n"
     ]
    }
   ],
   "source": [
    "# join interact_ratio_avg with churn_df\n",
    "churn_df = churn_df.join(interact_ratio_avg, on='userId', how='left').fillna(0.0)\n",
    "churn_df.show()"
   ]
  },
  {
   "cell_type": "markdown",
   "metadata": {},
   "source": [
    "### Feature 7:"
   ]
  },
  {
   "cell_type": "code",
   "execution_count": 59,
   "metadata": {},
   "outputs": [
    {
     "name": "stdout",
     "output_type": "stream",
     "text": [
      "+------+------------------+\n",
      "|userId|days_since_joining|\n",
      "+------+------------------+\n",
      "|     2|             44736|\n",
      "|     3|             27118|\n",
      "|     4|             60636|\n",
      "|     5|             35368|\n",
      "|     6|             59317|\n",
      "|     7|             50784|\n",
      "|     8|             50919|\n",
      "|     9|             60594|\n",
      "|    10|             42437|\n",
      "|    11|             53241|\n",
      "|    12|             19207|\n",
      "|    13|             59498|\n",
      "|    14|             49717|\n",
      "|    15|             54773|\n",
      "|    16|             57063|\n",
      "|    17|             10673|\n",
      "|    18|              5139|\n",
      "|    19|               628|\n",
      "|    20|             57521|\n",
      "|    21|             33666|\n",
      "+------+------------------+\n",
      "only showing top 20 rows\n",
      "\n"
     ]
    }
   ],
   "source": [
    "# table to count the number of days since join\n",
    "join_days = spark.sql(\n",
    "    '''\n",
    "    WITH t2 AS (\n",
    "        SELECT \n",
    "            t1.userId,\n",
    "            t1.date,\n",
    "            ROW_NUMBER() OVER (\n",
    "                PARTITION BY t1.userId\n",
    "                ORDER BY t1.date ASC\n",
    "            ) AS row_num_1,\n",
    "            ROW_NUMBER() OVER (\n",
    "                PARTITION BY t1.userId\n",
    "                ORDER BY t1.date DESC\n",
    "            ) AS row_num_2\n",
    "        FROM (\n",
    "            SELECT DISTINCT\n",
    "                CAST(log_table.userId AS INT) AS userId,\n",
    "                DATE(TIMESTAMP(log_table.ts)) AS date\n",
    "            FROM log_table\n",
    "            ORDER BY 1, 2\n",
    "        ) AS t1\n",
    "        ORDER BY 1, 2\n",
    "    ),\n",
    "    t3 AS (\n",
    "        SELECT\n",
    "            t2.userId,\n",
    "            t2.date\n",
    "        FROM t2\n",
    "        WHERE t2.row_num_1 = 1\n",
    "    ),\n",
    "    t4 AS (\n",
    "        SELECT\n",
    "            t2.userId,\n",
    "            t2.date\n",
    "        FROM t2\n",
    "        WHERE t2.row_num_2 = 1\n",
    "    )\n",
    "    SELECT\n",
    "        t3.userId,\n",
    "        DATEDIFF(t4.date, t3.date) AS days_since_joining\n",
    "    FROM t3\n",
    "    INNER JOIN t4\n",
    "    ON t3.userId = t4.userId\n",
    "    ORDER BY 1\n",
    "    '''\n",
    ")\n",
    "\n",
    "join_days.show()"
   ]
  },
  {
   "cell_type": "code",
   "execution_count": 60,
   "metadata": {},
   "outputs": [
    {
     "name": "stdout",
     "output_type": "stream",
     "text": [
      "+------+-------+------+-------------+-----------+----------+-----------+--------------+------------------+\n",
      "|userId|churned|gender|total_friends|total_hours|total_days|total_songs|interact_ratio|days_since_joining|\n",
      "+------+-------+------+-------------+-----------+----------+-----------+--------------+------------------+\n",
      "|   148|      0|     0|            7|        518|       422|        398|          1.23|             55372|\n",
      "|    85|      0|     0|           58|       4370|      3833|       3616|          1.14|             59016|\n",
      "|   137|      0|     0|            8|        209|       166|        154|          1.26|             54318|\n",
      "|    65|      0|     0|           53|       2544|      2225|       2113|          1.14|             58729|\n",
      "|200001|      1|     0|            0|        158|       124|        115|          1.27|             14189|\n",
      "|    53|      1|     0|           25|       2064|      1778|       1746|          1.16|             48752|\n",
      "|   133|      0|     0|            1|         44|        39|         32|          1.13|               120|\n",
      "|100003|      1|     1|            0|         78|        54|         51|          1.44|              2018|\n",
      "|200021|      1|     1|           19|       1502|      1283|       1227|          1.17|             29542|\n",
      "|    78|      0|     1|            2|        324|       272|        254|          1.19|             59955|\n",
      "|100007|      1|     1|           17|        520|       443|        423|          1.17|             58177|\n",
      "|300011|      0|     1|           93|       5732|      4880|       4619|          1.17|             60092|\n",
      "|   108|      0|     1|           15|        764|       668|        633|          1.14|             38927|\n",
      "|   155|      0|     1|           11|       1002|       861|        820|          1.16|             25828|\n",
      "|    34|      0|     0|            0|         73|        60|         53|          1.22|             41585|\n",
      "|   101|      1|     0|           29|       2149|      1939|       1797|          1.11|             15861|\n",
      "|   115|      0|     1|           39|       2076|      1757|       1737|          1.18|             57364|\n",
      "|   126|      0|     0|           33|       3102|      2722|       2577|          1.14|             60248|\n",
      "|    81|      0|     0|           23|       2335|      2057|       1974|          1.14|             60302|\n",
      "|100005|      1|     0|            3|        216|       157|        154|          1.38|             18111|\n",
      "+------+-------+------+-------------+-----------+----------+-----------+--------------+------------------+\n",
      "only showing top 20 rows\n",
      "\n"
     ]
    }
   ],
   "source": [
    "# join join_days with churn_df\n",
    "churn_df = churn_df.join(join_days, on='userId', how='left').fillna(0.0)\n",
    "churn_df.show()"
   ]
  },
  {
   "cell_type": "markdown",
   "metadata": {},
   "source": [
    "### Feature 8:"
   ]
  },
  {
   "cell_type": "code",
   "execution_count": 61,
   "metadata": {},
   "outputs": [
    {
     "name": "stdout",
     "output_type": "stream",
     "text": [
      "+------+-----------+\n",
      "|userId|thumbs_down|\n",
      "+------+-----------+\n",
      "|     2|          6|\n",
      "|     3|          3|\n",
      "|     4|         26|\n",
      "|     6|         31|\n",
      "|     7|          1|\n",
      "|     8|          3|\n",
      "|     9|         32|\n",
      "|    10|          4|\n",
      "|    11|          9|\n",
      "|    12|          9|\n",
      "|    13|         14|\n",
      "|    14|         12|\n",
      "|    15|         14|\n",
      "|    16|          4|\n",
      "|    17|         13|\n",
      "|    18|          1|\n",
      "|    19|          2|\n",
      "|    20|         21|\n",
      "|    21|          2|\n",
      "|    23|          6|\n",
      "+------+-----------+\n",
      "only showing top 20 rows\n",
      "\n"
     ]
    }
   ],
   "source": [
    "# table to count the number of thumbs down per day\n",
    "thumbs_down = spark.sql(\n",
    "    '''\n",
    "    SELECT \n",
    "        CAST(userId AS INT) AS userId, \n",
    "        COUNT(*) AS thumbs_down\n",
    "    FROM log_table\n",
    "    WHERE page = 'Thumbs Down'\n",
    "    GROUP BY CAST(userId AS INT)\n",
    "    ORDER BY CAST(userId AS INT)\n",
    "    '''\n",
    ")\n",
    "\n",
    "thumbs_down.show()"
   ]
  },
  {
   "cell_type": "code",
   "execution_count": 62,
   "metadata": {},
   "outputs": [
    {
     "name": "stdout",
     "output_type": "stream",
     "text": [
      "+------+-------+------+-------------+-----------+----------+-----------+--------------+------------------+-----------+\n",
      "|userId|churned|gender|total_friends|total_hours|total_days|total_songs|interact_ratio|days_since_joining|thumbs_down|\n",
      "+------+-------+------+-------------+-----------+----------+-----------+--------------+------------------+-----------+\n",
      "|   148|      0|     0|            7|        518|       422|        398|          1.23|             55372|          3|\n",
      "|    85|      0|     0|           58|       4370|      3833|       3616|          1.14|             59016|         38|\n",
      "|   137|      0|     0|            8|        209|       166|        154|          1.26|             54318|          1|\n",
      "|    65|      0|     0|           53|       2544|      2225|       2113|          1.14|             58729|         17|\n",
      "|200001|      1|     0|            0|        158|       124|        115|          1.27|             14189|          1|\n",
      "|    53|      1|     0|           25|       2064|      1778|       1746|          1.16|             48752|         16|\n",
      "|   133|      0|     0|            1|         44|        39|         32|          1.13|               120|          0|\n",
      "|100003|      1|     1|            0|         78|        54|         51|          1.44|              2018|          0|\n",
      "|200021|      1|     1|           19|       1502|      1283|       1227|          1.17|             29542|         35|\n",
      "|    78|      0|     1|            2|        324|       272|        254|          1.19|             59955|          3|\n",
      "|100007|      1|     1|           17|        520|       443|        423|          1.17|             58177|          6|\n",
      "|300011|      0|     1|           93|       5732|      4880|       4619|          1.17|             60092|         41|\n",
      "|   108|      0|     1|           15|        764|       668|        633|          1.14|             38927|          6|\n",
      "|   155|      0|     1|           11|       1002|       861|        820|          1.16|             25828|          3|\n",
      "|    34|      0|     0|            0|         73|        60|         53|          1.22|             41585|          0|\n",
      "|   101|      1|     0|           29|       2149|      1939|       1797|          1.11|             15861|         16|\n",
      "|   115|      0|     1|           39|       2076|      1757|       1737|          1.18|             57364|         24|\n",
      "|   126|      0|     0|           33|       3102|      2722|       2577|          1.14|             60248|         21|\n",
      "|    81|      0|     0|           23|       2335|      2057|       1974|          1.14|             60302|         14|\n",
      "|100005|      1|     0|            3|        216|       157|        154|          1.38|             18111|          3|\n",
      "+------+-------+------+-------------+-----------+----------+-----------+--------------+------------------+-----------+\n",
      "only showing top 20 rows\n",
      "\n"
     ]
    }
   ],
   "source": [
    "# join thumbs_down with churn_df\n",
    "churn_df = churn_df.join(thumbs_down, on='userId', how='left').fillna(0.0)\n",
    "churn_df.show()"
   ]
  },
  {
   "cell_type": "markdown",
   "metadata": {},
   "source": [
    "### Feature 9:"
   ]
  },
  {
   "cell_type": "code",
   "execution_count": 63,
   "metadata": {},
   "outputs": [
    {
     "name": "stdout",
     "output_type": "stream",
     "text": [
      "+------+---------+\n",
      "|userId|thumbs_up|\n",
      "+------+---------+\n",
      "|     2|       29|\n",
      "|     3|       14|\n",
      "|     4|       95|\n",
      "|     5|       11|\n",
      "|     6|      165|\n",
      "|     7|        7|\n",
      "|     8|       16|\n",
      "|     9|      118|\n",
      "|    10|       37|\n",
      "|    11|       40|\n",
      "|    12|       42|\n",
      "|    13|       57|\n",
      "|    14|       54|\n",
      "|    15|       81|\n",
      "|    16|       42|\n",
      "|    17|       40|\n",
      "|    18|       20|\n",
      "|    19|        5|\n",
      "|    20|      106|\n",
      "|    21|       27|\n",
      "+------+---------+\n",
      "only showing top 20 rows\n",
      "\n"
     ]
    }
   ],
   "source": [
    "# table to count the number of thumbs up per day\n",
    "thumbs_up = spark.sql(\n",
    "    '''\n",
    "    SELECT \n",
    "        CAST(userId AS INT) AS userId, \n",
    "        COUNT(*) AS thumbs_up\n",
    "    FROM log_table\n",
    "    WHERE page = 'Thumbs Up'\n",
    "    GROUP BY CAST(userId AS INT)\n",
    "    ORDER BY CAST(userId AS INT)\n",
    "    '''\n",
    ")\n",
    "\n",
    "thumbs_up.show()"
   ]
  },
  {
   "cell_type": "code",
   "execution_count": 64,
   "metadata": {},
   "outputs": [
    {
     "name": "stdout",
     "output_type": "stream",
     "text": [
      "+------+-------+------+-------------+-----------+----------+-----------+--------------+------------------+-----------+---------+\n",
      "|userId|churned|gender|total_friends|total_hours|total_days|total_songs|interact_ratio|days_since_joining|thumbs_down|thumbs_up|\n",
      "+------+-------+------+-------------+-----------+----------+-----------+--------------+------------------+-----------+---------+\n",
      "|   148|      0|     0|            7|        518|       422|        398|          1.23|             55372|          3|       28|\n",
      "|    85|      0|     0|           58|       4370|      3833|       3616|          1.14|             59016|         38|      192|\n",
      "|   137|      0|     0|            8|        209|       166|        154|          1.26|             54318|          1|        8|\n",
      "|    65|      0|     0|           53|       2544|      2225|       2113|          1.14|             58729|         17|      111|\n",
      "|200001|      1|     0|            0|        158|       124|        115|          1.27|             14189|          1|       10|\n",
      "|    53|      1|     0|           25|       2064|      1778|       1746|          1.16|             48752|         16|       69|\n",
      "|   133|      0|     0|            1|         44|        39|         32|          1.13|               120|          0|        2|\n",
      "|100003|      1|     1|            0|         78|        54|         51|          1.44|              2018|          0|        3|\n",
      "|200021|      1|     1|           19|       1502|      1283|       1227|          1.17|             29542|         35|       55|\n",
      "|    78|      0|     1|            2|        324|       272|        254|          1.19|             59955|          3|       11|\n",
      "|100007|      1|     1|           17|        520|       443|        423|          1.17|             58177|          6|       19|\n",
      "|300011|      0|     1|           93|       5732|      4880|       4619|          1.17|             60092|         41|      437|\n",
      "|   108|      0|     1|           15|        764|       668|        633|          1.14|             38927|          6|       20|\n",
      "|   155|      0|     1|           11|       1002|       861|        820|          1.16|             25828|          3|       58|\n",
      "|    34|      0|     0|            0|         73|        60|         53|          1.22|             41585|          0|        2|\n",
      "|   101|      1|     0|           29|       2149|      1939|       1797|          1.11|             15861|         16|       86|\n",
      "|   115|      0|     1|           39|       2076|      1757|       1737|          1.18|             57364|         24|       92|\n",
      "|   126|      0|     0|           33|       3102|      2722|       2577|          1.14|             60248|         21|      135|\n",
      "|    81|      0|     0|           23|       2335|      2057|       1974|          1.14|             60302|         14|       94|\n",
      "|100005|      1|     0|            3|        216|       157|        154|          1.38|             18111|          3|        7|\n",
      "+------+-------+------+-------------+-----------+----------+-----------+--------------+------------------+-----------+---------+\n",
      "only showing top 20 rows\n",
      "\n"
     ]
    }
   ],
   "source": [
    "# join thumbs_up with churn_df\n",
    "churn_df = churn_df.join(thumbs_up, on='userId', how='left').fillna(0.0)\n",
    "churn_df.show()"
   ]
  },
  {
   "cell_type": "markdown",
   "metadata": {},
   "source": [
    "### Feature 10:"
   ]
  },
  {
   "cell_type": "code",
   "execution_count": 65,
   "metadata": {},
   "outputs": [
    {
     "name": "stdout",
     "output_type": "stream",
     "text": [
      "+------+------------+\n",
      "|userId|add_playlist|\n",
      "+------+------------+\n",
      "|     2|          13|\n",
      "|     3|           4|\n",
      "|     4|          59|\n",
      "|     5|           8|\n",
      "|     6|          83|\n",
      "|     7|           5|\n",
      "|     8|           6|\n",
      "|     9|          77|\n",
      "|    10|           9|\n",
      "|    11|          20|\n",
      "|    12|          19|\n",
      "|    13|          37|\n",
      "|    14|          34|\n",
      "|    15|          59|\n",
      "|    16|          19|\n",
      "|    17|          30|\n",
      "|    18|          14|\n",
      "|    19|           8|\n",
      "|    20|          54|\n",
      "|    21|           9|\n",
      "+------+------------+\n",
      "only showing top 20 rows\n",
      "\n"
     ]
    }
   ],
   "source": [
    "# table to count the number of add to playlist per day\n",
    "add_playlist = spark.sql(\n",
    "    '''\n",
    "    SELECT \n",
    "        CAST(userId AS INT) AS userId, \n",
    "        COUNT(*) AS add_playlist\n",
    "    FROM log_table\n",
    "    WHERE page = 'Add to Playlist'\n",
    "    GROUP BY CAST(userId AS INT)\n",
    "    ORDER BY CAST(userId AS INT)\n",
    "    '''\n",
    ")\n",
    "\n",
    "add_playlist.show()"
   ]
  },
  {
   "cell_type": "code",
   "execution_count": 66,
   "metadata": {
    "scrolled": true
   },
   "outputs": [
    {
     "name": "stdout",
     "output_type": "stream",
     "text": [
      "+------+-------+------+-------------+-----------+----------+-----------+--------------+------------------+-----------+---------+------------+\n",
      "|userId|churned|gender|total_friends|total_hours|total_days|total_songs|interact_ratio|days_since_joining|thumbs_down|thumbs_up|add_playlist|\n",
      "+------+-------+------+-------------+-----------+----------+-----------+--------------+------------------+-----------+---------+------------+\n",
      "|   148|      0|     0|            7|        518|       422|        398|          1.23|             55372|          3|       28|           5|\n",
      "|    85|      0|     0|           58|       4370|      3833|       3616|          1.14|             59016|         38|      192|         108|\n",
      "|   137|      0|     0|            8|        209|       166|        154|          1.26|             54318|          1|        8|           4|\n",
      "|    65|      0|     0|           53|       2544|      2225|       2113|          1.14|             58729|         17|      111|          68|\n",
      "|200001|      1|     0|            0|        158|       124|        115|          1.27|             14189|          1|       10|           3|\n",
      "|    53|      1|     0|           25|       2064|      1778|       1746|          1.16|             48752|         16|       69|          46|\n",
      "|   133|      0|     0|            1|         44|        39|         32|          1.13|               120|          0|        2|           3|\n",
      "|100003|      1|     1|            0|         78|        54|         51|          1.44|              2018|          0|        3|           2|\n",
      "|200021|      1|     1|           19|       1502|      1283|       1227|          1.17|             29542|         35|       55|          30|\n",
      "|    78|      0|     1|            2|        324|       272|        254|          1.19|             59955|          3|       11|           9|\n",
      "|100007|      1|     1|           17|        520|       443|        423|          1.17|             58177|          6|       19|           9|\n",
      "|300011|      0|     1|           93|       5732|      4880|       4619|          1.17|             60092|         41|      437|         146|\n",
      "|   108|      0|     1|           15|        764|       668|        633|          1.14|             38927|          6|       20|          15|\n",
      "|   155|      0|     1|           11|       1002|       861|        820|          1.16|             25828|          3|       58|          24|\n",
      "|    34|      0|     0|            0|         73|        60|         53|          1.22|             41585|          0|        2|           4|\n",
      "|   101|      1|     0|           29|       2149|      1939|       1797|          1.11|             15861|         16|       86|          61|\n",
      "|   115|      0|     1|           39|       2076|      1757|       1737|          1.18|             57364|         24|       92|          42|\n",
      "|   126|      0|     0|           33|       3102|      2722|       2577|          1.14|             60248|         21|      135|          72|\n",
      "|    81|      0|     0|           23|       2335|      2057|       1974|          1.14|             60302|         14|       94|          51|\n",
      "|100005|      1|     0|            3|        216|       157|        154|          1.38|             18111|          3|        7|           3|\n",
      "+------+-------+------+-------------+-----------+----------+-----------+--------------+------------------+-----------+---------+------------+\n",
      "only showing top 20 rows\n",
      "\n"
     ]
    }
   ],
   "source": [
    "# join add_playlist with churn_df\n",
    "churn_df = churn_df.join(add_playlist, on='userId', how='left').fillna(0.0)\n",
    "churn_df.show()"
   ]
  },
  {
   "cell_type": "markdown",
   "metadata": {},
   "source": [
    "### Feature 11:"
   ]
  },
  {
   "cell_type": "code",
   "execution_count": 67,
   "metadata": {},
   "outputs": [
    {
     "name": "stdout",
     "output_type": "stream",
     "text": [
      "+------+-----+\n",
      "|userId|level|\n",
      "+------+-----+\n",
      "|    10|    1|\n",
      "|   100|    0|\n",
      "|   100|    1|\n",
      "|100001|    0|\n",
      "|100002|    1|\n",
      "|100003|    0|\n",
      "|100004|    0|\n",
      "|100004|    1|\n",
      "|100005|    0|\n",
      "|100006|    0|\n",
      "+------+-----+\n",
      "only showing top 10 rows\n",
      "\n"
     ]
    }
   ],
   "source": [
    "# table to create a boolean feature related to the level\n",
    "level = spark.sql(\n",
    "    '''\n",
    "    SELECT CAST(userId AS INT),\n",
    "    CASE WHEN level = 'free' THEN 0 ELSE 1 END AS level\n",
    "    FROM log_table\n",
    "    GROUP BY userId, level\n",
    "    ORDER BY userId, level\n",
    "    '''\n",
    ")\n",
    "\n",
    "level.show(10)"
   ]
  },
  {
   "cell_type": "code",
   "execution_count": 68,
   "metadata": {},
   "outputs": [
    {
     "name": "stdout",
     "output_type": "stream",
     "text": [
      "+------+-------+------+-------------+-----------+----------+-----------+--------------+------------------+-----------+---------+------------+-----+\n",
      "|userId|churned|gender|total_friends|total_hours|total_days|total_songs|interact_ratio|days_since_joining|thumbs_down|thumbs_up|add_playlist|level|\n",
      "+------+-------+------+-------------+-----------+----------+-----------+--------------+------------------+-----------+---------+------------+-----+\n",
      "|   148|      0|     0|            7|        518|       422|        398|          1.23|             55372|          3|       28|           5|    0|\n",
      "|    85|      0|     0|           58|       4370|      3833|       3616|          1.14|             59016|         38|      192|         108|    1|\n",
      "|    85|      0|     0|           58|       4370|      3833|       3616|          1.14|             59016|         38|      192|         108|    0|\n",
      "|   137|      0|     0|            8|        209|       166|        154|          1.26|             54318|          1|        8|           4|    1|\n",
      "|   137|      0|     0|            8|        209|       166|        154|          1.26|             54318|          1|        8|           4|    0|\n",
      "|    65|      0|     0|           53|       2544|      2225|       2113|          1.14|             58729|         17|      111|          68|    1|\n",
      "|    65|      0|     0|           53|       2544|      2225|       2113|          1.14|             58729|         17|      111|          68|    0|\n",
      "|200001|      1|     0|            0|        158|       124|        115|          1.27|             14189|          1|       10|           3|    0|\n",
      "|    53|      1|     0|           25|       2064|      1778|       1746|          1.16|             48752|         16|       69|          46|    1|\n",
      "|    53|      1|     0|           25|       2064|      1778|       1746|          1.16|             48752|         16|       69|          46|    0|\n",
      "|   133|      0|     0|            1|         44|        39|         32|          1.13|               120|          0|        2|           3|    0|\n",
      "|100003|      1|     1|            0|         78|        54|         51|          1.44|              2018|          0|        3|           2|    0|\n",
      "|200021|      1|     1|           19|       1502|      1283|       1227|          1.17|             29542|         35|       55|          30|    1|\n",
      "|200021|      1|     1|           19|       1502|      1283|       1227|          1.17|             29542|         35|       55|          30|    0|\n",
      "|    78|      0|     1|            2|        324|       272|        254|          1.19|             59955|          3|       11|           9|    0|\n",
      "|100007|      1|     1|           17|        520|       443|        423|          1.17|             58177|          6|       19|           9|    1|\n",
      "|300011|      0|     1|           93|       5732|      4880|       4619|          1.17|             60092|         41|      437|         146|    1|\n",
      "|300011|      0|     1|           93|       5732|      4880|       4619|          1.17|             60092|         41|      437|         146|    0|\n",
      "|   108|      0|     1|           15|        764|       668|        633|          1.14|             38927|          6|       20|          15|    1|\n",
      "|   108|      0|     1|           15|        764|       668|        633|          1.14|             38927|          6|       20|          15|    0|\n",
      "+------+-------+------+-------------+-----------+----------+-----------+--------------+------------------+-----------+---------+------------+-----+\n",
      "only showing top 20 rows\n",
      "\n"
     ]
    }
   ],
   "source": [
    "# join level with churn_df\n",
    "churn_df = churn_df.join(level, on='userId', how='left').fillna(0.0)\n",
    "churn_df.show()"
   ]
  },
  {
   "cell_type": "markdown",
   "metadata": {},
   "source": [
    "# Modeling\n",
    "Split the full dataset into train, test, and validation sets. Test out several of the machine learning methods you learned. Evaluate the accuracy of the various models, tuning parameters as necessary. Determine your winning model based on test accuracy and report results on the validation set. Since the churned users are a fairly small subset, I suggest using F1 score as the metric to optimize."
   ]
  },
  {
   "cell_type": "code",
   "execution_count": 69,
   "metadata": {},
   "outputs": [
    {
     "data": {
      "text/plain": [
       "[('userId', 'int'),\n",
       " ('churned', 'int'),\n",
       " ('gender', 'int'),\n",
       " ('total_friends', 'bigint'),\n",
       " ('total_hours', 'bigint'),\n",
       " ('total_days', 'bigint'),\n",
       " ('total_songs', 'bigint'),\n",
       " ('interact_ratio', 'double'),\n",
       " ('days_since_joining', 'int'),\n",
       " ('thumbs_down', 'bigint'),\n",
       " ('thumbs_up', 'bigint'),\n",
       " ('add_playlist', 'bigint'),\n",
       " ('level', 'int')]"
      ]
     },
     "execution_count": 69,
     "metadata": {},
     "output_type": "execute_result"
    }
   ],
   "source": [
    "# features type\n",
    "churn_df.dtypes"
   ]
  },
  {
   "cell_type": "code",
   "execution_count": 70,
   "metadata": {},
   "outputs": [],
   "source": [
    "# VectorAssembler to combine features\n",
    "assembler = VectorAssembler(\n",
    "    inputCols=[col for col in churn_df.columns if col not in ['userId', 'churned']], \n",
    "    outputCol='unscaled_features')\n",
    "\n",
    "data = assembler \\\n",
    "    .transform(churn_df) \\\n",
    "    .select(\n",
    "        col('userId'),\n",
    "        col('churned').alias('label'), \n",
    "        col('unscaled_features')\n",
    "    )\n",
    "\n",
    "# split the dataset\n",
    "train, test = data.randomSplit([0.8, 0.2], seed=42)\n"
   ]
  },
  {
   "cell_type": "code",
   "execution_count": 71,
   "metadata": {},
   "outputs": [],
   "source": [
    "# scaler\n",
    "train_scaler = StandardScaler(\n",
    "    inputCol='unscaled_features', \n",
    "    outputCol='features'\n",
    ")\n",
    "\n",
    "train = train_scaler.fit(train).transform(train)\n",
    "test = train_scaler.fit(test).transform(test)"
   ]
  },
  {
   "cell_type": "markdown",
   "metadata": {},
   "source": [
    "### Logistic Regression"
   ]
  },
  {
   "cell_type": "code",
   "execution_count": 72,
   "metadata": {},
   "outputs": [],
   "source": [
    "# Init Logistic Regression\n",
    "lr_clf = LogisticRegression()\n",
    "\n",
    "lr_paramGrid = ParamGridBuilder() \\\n",
    "    .addGrid(lr_clf.regParam, [0.1, 0.01]) \\\n",
    "    .build()\n",
    "\n",
    "# cross_validation\n",
    "lr_crossval = CrossValidator(\n",
    "    estimator=lr_clf,\n",
    "    estimatorParamMaps=lr_paramGrid,\n",
    "    evaluator=BinaryClassificationEvaluator(),\n",
    "    numFolds=5\n",
    ")\n",
    "\n",
    "# fitting\n",
    "lr_cvModel = lr_crossval.fit(train)\n"
   ]
  },
  {
   "cell_type": "code",
   "execution_count": 73,
   "metadata": {},
   "outputs": [],
   "source": [
    "# predictions\n",
    "lr_prediction = lr_cvModel.transform(test)"
   ]
  },
  {
   "cell_type": "code",
   "execution_count": 124,
   "metadata": {},
   "outputs": [],
   "source": [
    "# save the LR model\n",
    "lr_cvModel.save('./logistic_regression/')"
   ]
  },
  {
   "cell_type": "code",
   "execution_count": 125,
   "metadata": {},
   "outputs": [],
   "source": [
    "# dataset to a pandas df\n",
    "lr_prediction_df = lr_prediction.select(['userId', 'label', 'probability', 'prediction']).toPandas()\n"
   ]
  },
  {
   "cell_type": "code",
   "execution_count": 126,
   "metadata": {},
   "outputs": [
    {
     "data": {
      "text/html": [
       "<div>\n",
       "<style scoped>\n",
       "    .dataframe tbody tr th:only-of-type {\n",
       "        vertical-align: middle;\n",
       "    }\n",
       "\n",
       "    .dataframe tbody tr th {\n",
       "        vertical-align: top;\n",
       "    }\n",
       "\n",
       "    .dataframe thead th {\n",
       "        text-align: right;\n",
       "    }\n",
       "</style>\n",
       "<table border=\"1\" class=\"dataframe\">\n",
       "  <thead>\n",
       "    <tr style=\"text-align: right;\">\n",
       "      <th></th>\n",
       "      <th>userId</th>\n",
       "      <th>probability</th>\n",
       "    </tr>\n",
       "  </thead>\n",
       "  <tbody>\n",
       "    <tr>\n",
       "      <th>0</th>\n",
       "      <td>85</td>\n",
       "      <td>[0.777577997624, 0.222422002376]</td>\n",
       "    </tr>\n",
       "    <tr>\n",
       "      <th>1</th>\n",
       "      <td>137</td>\n",
       "      <td>[0.756935258283, 0.243064741717]</td>\n",
       "    </tr>\n",
       "    <tr>\n",
       "      <th>2</th>\n",
       "      <td>65</td>\n",
       "      <td>[0.824910498306, 0.175089501694]</td>\n",
       "    </tr>\n",
       "    <tr>\n",
       "      <th>3</th>\n",
       "      <td>133</td>\n",
       "      <td>[0.212297060224, 0.787702939776]</td>\n",
       "    </tr>\n",
       "    <tr>\n",
       "      <th>4</th>\n",
       "      <td>78</td>\n",
       "      <td>[0.843330077736, 0.156669922264]</td>\n",
       "    </tr>\n",
       "  </tbody>\n",
       "</table>\n",
       "</div>"
      ],
      "text/plain": [
       "   userId                       probability\n",
       "0      85  [0.777577997624, 0.222422002376]\n",
       "1     137  [0.756935258283, 0.243064741717]\n",
       "2      65  [0.824910498306, 0.175089501694]\n",
       "3     133  [0.212297060224, 0.787702939776]\n",
       "4      78  [0.843330077736, 0.156669922264]"
      ]
     },
     "execution_count": 126,
     "metadata": {},
     "output_type": "execute_result"
    }
   ],
   "source": [
    "lr_user_churn_probabilities = lr_prediction_df[['userId', 'probability']]\n",
    "lr_user_churn_probabilities.head()\n"
   ]
  },
  {
   "cell_type": "code",
   "execution_count": 127,
   "metadata": {},
   "outputs": [
    {
     "name": "stdout",
     "output_type": "stream",
     "text": [
      "{'f1_score': 0.42857142857142855, 'precision': 0.375, 'recall': 0.5, 'AUC': 0.66379310344827591}\n"
     ]
    }
   ],
   "source": [
    "# F1, precision, recall and AUC\n",
    "lr_y_test_pred = lr_prediction_df['prediction']\n",
    "lr_y_test_true = lr_prediction_df['label']\n",
    "\n",
    "print({\n",
    "    'f1_score': f1_score(y_true=lr_y_test_true, y_pred=lr_y_test_pred),\n",
    "    'precision': precision_score(y_true=lr_y_test_true, y_pred=lr_y_test_pred),\n",
    "    'recall': recall_score(y_true=lr_y_test_true, y_pred=lr_y_test_pred),\n",
    "    'AUC': roc_auc_score(y_true=lr_y_test_true, y_score=lr_y_test_pred)\n",
    "})\n"
   ]
  },
  {
   "cell_type": "code",
   "execution_count": null,
   "metadata": {},
   "outputs": [],
   "source": []
  },
  {
   "cell_type": "markdown",
   "metadata": {},
   "source": [
    "### Random Forest"
   ]
  },
  {
   "cell_type": "code",
   "execution_count": 72,
   "metadata": {},
   "outputs": [],
   "source": [
    "# Init Random Forest\n",
    "rf_clf = RandomForestClassifier()\n",
    "\n",
    "rf_paramGrid = ParamGridBuilder() \\\n",
    "    .addGrid(rf_clf.maxDepth, [2, 4, 6]) \\\n",
    "    .addGrid(rf_clf.maxBins, [20, 60]) \\\n",
    "    .addGrid(rf_clf.numTrees, [5, 20, 100]) \\\n",
    "    .build()\n",
    "\n",
    "# cross-validation\n",
    "rf_crossval = CrossValidator(\n",
    "    estimator=rf_clf,\n",
    "    estimatorParamMaps=rf_paramGrid,\n",
    "    evaluator=BinaryClassificationEvaluator(),\n",
    "    numFolds=5\n",
    ")\n",
    "\n",
    "# fitting\n",
    "rf_cvModel = rf_crossval.fit(train)"
   ]
  },
  {
   "cell_type": "code",
   "execution_count": 73,
   "metadata": {},
   "outputs": [],
   "source": [
    "# predictions\n",
    "rf_prediction = rf_cvModel.transform(test)"
   ]
  },
  {
   "cell_type": "code",
   "execution_count": 75,
   "metadata": {},
   "outputs": [],
   "source": [
    "# dataset to a pandas df\n",
    "rf_prediction_df = rf_prediction.select(['userId', 'label', 'probability', 'prediction']).toPandas()\n"
   ]
  },
  {
   "cell_type": "code",
   "execution_count": 76,
   "metadata": {},
   "outputs": [
    {
     "data": {
      "text/html": [
       "<div>\n",
       "<style scoped>\n",
       "    .dataframe tbody tr th:only-of-type {\n",
       "        vertical-align: middle;\n",
       "    }\n",
       "\n",
       "    .dataframe tbody tr th {\n",
       "        vertical-align: top;\n",
       "    }\n",
       "\n",
       "    .dataframe thead th {\n",
       "        text-align: right;\n",
       "    }\n",
       "</style>\n",
       "<table border=\"1\" class=\"dataframe\">\n",
       "  <thead>\n",
       "    <tr style=\"text-align: right;\">\n",
       "      <th></th>\n",
       "      <th>userId</th>\n",
       "      <th>probability</th>\n",
       "    </tr>\n",
       "  </thead>\n",
       "  <tbody>\n",
       "    <tr>\n",
       "      <th>0</th>\n",
       "      <td>85</td>\n",
       "      <td>[0.967514186945, 0.0324858130553]</td>\n",
       "    </tr>\n",
       "    <tr>\n",
       "      <th>1</th>\n",
       "      <td>137</td>\n",
       "      <td>[0.895135132518, 0.104864867482]</td>\n",
       "    </tr>\n",
       "    <tr>\n",
       "      <th>2</th>\n",
       "      <td>65</td>\n",
       "      <td>[0.996733732551, 0.00326626744874]</td>\n",
       "    </tr>\n",
       "    <tr>\n",
       "      <th>3</th>\n",
       "      <td>133</td>\n",
       "      <td>[0.358647224418, 0.641352775582]</td>\n",
       "    </tr>\n",
       "    <tr>\n",
       "      <th>4</th>\n",
       "      <td>78</td>\n",
       "      <td>[0.889010242727, 0.110989757273]</td>\n",
       "    </tr>\n",
       "  </tbody>\n",
       "</table>\n",
       "</div>"
      ],
      "text/plain": [
       "   userId                         probability\n",
       "0      85   [0.967514186945, 0.0324858130553]\n",
       "1     137    [0.895135132518, 0.104864867482]\n",
       "2      65  [0.996733732551, 0.00326626744874]\n",
       "3     133    [0.358647224418, 0.641352775582]\n",
       "4      78    [0.889010242727, 0.110989757273]"
      ]
     },
     "execution_count": 76,
     "metadata": {},
     "output_type": "execute_result"
    }
   ],
   "source": [
    "rf_user_churn_probabilities = rf_prediction_df[['userId', 'probability']]\n",
    "rf_user_churn_probabilities.head()\n"
   ]
  },
  {
   "cell_type": "code",
   "execution_count": 77,
   "metadata": {},
   "outputs": [
    {
     "name": "stdout",
     "output_type": "stream",
     "text": [
      "{'f1_score': 0.5, 'precision': 0.5, 'recall': 0.5, 'AUC': 0.69827586206896552}\n"
     ]
    }
   ],
   "source": [
    "# F1, precision, recall and AUC\n",
    "rf_y_test_pred = rf_prediction_df['prediction']\n",
    "rf_y_test_true = rf_prediction_df['label']\n",
    "\n",
    "print({\n",
    "    'f1_score': f1_score(y_true=rf_y_test_true, y_pred=rf_y_test_pred),\n",
    "    'precision': precision_score(y_true=rf_y_test_true, y_pred=rf_y_test_pred),\n",
    "    'recall': recall_score(y_true=rf_y_test_true, y_pred=rf_y_test_pred),\n",
    "     'AUC': roc_auc_score(y_true=rf_y_test_true, y_score=rf_y_test_pred)\n",
    "})"
   ]
  },
  {
   "cell_type": "code",
   "execution_count": 78,
   "metadata": {},
   "outputs": [],
   "source": [
    "# best params.\n",
    "best_param = rf_cvModel.bestModel\n"
   ]
  },
  {
   "cell_type": "code",
   "execution_count": 79,
   "metadata": {},
   "outputs": [
    {
     "data": {
      "text/plain": [
       "pyspark.sql.dataframe.DataFrame"
      ]
     },
     "execution_count": 79,
     "metadata": {},
     "output_type": "execute_result"
    }
   ],
   "source": [
    "type(train)"
   ]
  },
  {
   "cell_type": "code",
   "execution_count": 80,
   "metadata": {},
   "outputs": [],
   "source": [
    "train_df = train.toPandas()"
   ]
  },
  {
   "cell_type": "code",
   "execution_count": 81,
   "metadata": {},
   "outputs": [
    {
     "data": {
      "text/plain": [
       "pandas.core.frame.DataFrame"
      ]
     },
     "execution_count": 81,
     "metadata": {},
     "output_type": "execute_result"
    }
   ],
   "source": [
    "type(train_df)"
   ]
  },
  {
   "cell_type": "code",
   "execution_count": 94,
   "metadata": {},
   "outputs": [
    {
     "data": {
      "text/plain": [
       "Index(['userId', 'label', 'unscaled_features', 'features'], dtype='object')"
      ]
     },
     "execution_count": 94,
     "metadata": {},
     "output_type": "execute_result"
    }
   ],
   "source": [
    "train_df.columns"
   ]
  },
  {
   "cell_type": "code",
   "execution_count": 103,
   "metadata": {},
   "outputs": [
    {
     "name": "stdout",
     "output_type": "stream",
     "text": [
      "Fold: 0\n",
      "CV train shape: (232, 4)\n",
      "Churn in CV train: 176\n",
      "\n",
      "Fold: 1\n",
      "CV train shape: (232, 4)\n",
      "Churn in CV train: 176\n",
      "\n",
      "Fold: 2\n",
      "CV train shape: (232, 4)\n",
      "Churn in CV train: 176\n",
      "\n",
      "Fold: 3\n",
      "CV train shape: (232, 4)\n",
      "Churn in CV train: 176\n",
      "\n",
      "Fold: 4\n",
      "CV train shape: (232, 4)\n",
      "Churn in CV train: 176\n",
      "\n"
     ]
    }
   ],
   "source": [
    "# k-fold cross validation\n",
    "\n",
    "# Import StratifiedKFold\n",
    "from sklearn.model_selection import StratifiedKFold\n",
    "\n",
    "# Create a StratifiedKFold object\n",
    "str_kf = StratifiedKFold(n_splits=5, shuffle=True, random_state=42)\n",
    "\n",
    "# Loop through each split\n",
    "fold = 0\n",
    "for train_index, test_index in str_kf.split(train_df, train_df['label']):\n",
    "    # Obtain training and testing folds\n",
    "    cv_train, cv_test = train_df.iloc[train_index], train_df.iloc[test_index]\n",
    "    print('Fold: {}'.format(fold))\n",
    "    print('CV train shape: {}'.format(cv_train.shape))\n",
    "    print('Churn in CV train: {}\\n'.format(sum(cv_train.label == 0)))\n",
    "    fold += 1"
   ]
  },
  {
   "cell_type": "markdown",
   "metadata": {},
   "source": [
    "# Final Steps\n",
    "Clean up your code, adding comments and renaming variables to make the code easier to read and maintain. Refer to the Spark Project Overview page and Data Scientist Capstone Project Rubric to make sure you are including all components of the capstone project and meet all expectations. Remember, this includes thorough documentation in a README file in a Github repository, as well as a web app or blog post."
   ]
  },
  {
   "cell_type": "code",
   "execution_count": null,
   "metadata": {},
   "outputs": [],
   "source": []
  }
 ],
 "metadata": {
  "kernelspec": {
   "display_name": "Python 3",
   "language": "python",
   "name": "python3"
  },
  "language_info": {
   "codemirror_mode": {
    "name": "ipython",
    "version": 3
   },
   "file_extension": ".py",
   "mimetype": "text/x-python",
   "name": "python",
   "nbconvert_exporter": "python",
   "pygments_lexer": "ipython3",
   "version": "3.6.3"
  }
 },
 "nbformat": 4,
 "nbformat_minor": 2
}
